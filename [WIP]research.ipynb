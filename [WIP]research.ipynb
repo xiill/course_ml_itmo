{
  "nbformat": 4,
  "nbformat_minor": 0,
  "metadata": {
    "colab": {
      "provenance": [],
      "authorship_tag": "ABX9TyNseY0pg+qOKMKo1zHgutQT",
      "include_colab_link": true
    },
    "kernelspec": {
      "name": "python3",
      "display_name": "Python 3"
    },
    "language_info": {
      "name": "python"
    }
  },
  "cells": [
    {
      "cell_type": "markdown",
      "metadata": {
        "id": "view-in-github",
        "colab_type": "text"
      },
      "source": [
        "<a href=\"https://colab.research.google.com/github/xiill/course_ml_itmo/blob/main/%5BWIP%5Dresearch.ipynb\" target=\"_parent\"><img src=\"https://colab.research.google.com/assets/colab-badge.svg\" alt=\"Open In Colab\"/></a>"
      ]
    },
    {
      "cell_type": "markdown",
      "source": [
        "# Загрузка и проверка данных"
      ],
      "metadata": {
        "id": "OLMSJR2ni1cy"
      }
    },
    {
      "cell_type": "code",
      "execution_count": 44,
      "metadata": {
        "id": "Tl8G9ucbC2SD"
      },
      "outputs": [],
      "source": [
        "import pandas as pd\n",
        "import matplotlib.pyplot as plt\n",
        "import seaborn as sns\n",
        "import numpy as np\n",
        "\n",
        "import warnings\n",
        "warnings.filterwarnings(\"ignore\")"
      ]
    },
    {
      "cell_type": "markdown",
      "source": [
        "clinical_data - наши клинические данные, обработанные, форматированные и тд."
      ],
      "metadata": {
        "id": "plAyxhbNNXIG"
      }
    },
    {
      "cell_type": "code",
      "source": [
        "clinical_data = pd.read_csv('/content/clinical_data3.csv', sep=';', skiprows=2)"
      ],
      "metadata": {
        "id": "TiHwJL4tC22F"
      },
      "execution_count": 45,
      "outputs": []
    },
    {
      "cell_type": "markdown",
      "source": [
        "изменены колонки (ST_DAYS/MI_DAYS/MACE_ABI) содержащие информацию о кол-во дней. \n",
        "\n",
        "Если не было данных - \"-1\"\n",
        "\n",
        "\n",
        "0 дней - \"0\"\n",
        "\n",
        "\n",
        "1-2-3 дня - \"1\"\n",
        "\n",
        "\n",
        "\n",
        "Больше дней - \"2\"\n",
        "\n",
        "\n"
      ],
      "metadata": {
        "id": "XQht812_3NQn"
      }
    },
    {
      "cell_type": "code",
      "source": [
        "print(clinical_data['MACE_ABI'].value_counts())\n",
        "print(clinical_data['ST_DAYS'].value_counts())\n",
        "print(clinical_data['MI_DAYS'].value_counts())"
      ],
      "metadata": {
        "colab": {
          "base_uri": "https://localhost:8080/"
        },
        "id": "3ImjbEPkbBhF",
        "outputId": "a7e492ce-257e-4540-cbb1-23d7aab56cd7"
      },
      "execution_count": 46,
      "outputs": [
        {
          "output_type": "stream",
          "name": "stdout",
          "text": [
            "-1    493\n",
            " 2     34\n",
            " 0     11\n",
            " 1      7\n",
            "Name: MACE_ABI, dtype: int64\n",
            "-1    541\n",
            " 0      2\n",
            " 1      1\n",
            " 2      1\n",
            "Name: ST_DAYS, dtype: int64\n",
            "-1    526\n",
            " 0     11\n",
            " 1      6\n",
            " 2      2\n",
            "Name: MI_DAYS, dtype: int64\n"
          ]
        }
      ]
    },
    {
      "cell_type": "code",
      "source": [
        "clinical_data.shape"
      ],
      "metadata": {
        "colab": {
          "base_uri": "https://localhost:8080/"
        },
        "id": "Okz-IlJXDpX7",
        "outputId": "eab20cdf-71b0-4de5-ebfb-0d7d23c3b861"
      },
      "execution_count": 47,
      "outputs": [
        {
          "output_type": "execute_result",
          "data": {
            "text/plain": [
              "(545, 33)"
            ]
          },
          "metadata": {},
          "execution_count": 47
        }
      ]
    },
    {
      "cell_type": "code",
      "source": [
        "clinical_data.head()"
      ],
      "metadata": {
        "id": "MAgHaqakD8dO",
        "colab": {
          "base_uri": "https://localhost:8080/",
          "height": 297
        },
        "outputId": "2e4f4d9e-d33e-4099-a663-7d696c842c80"
      },
      "execution_count": 48,
      "outputs": [
        {
          "output_type": "execute_result",
          "data": {
            "text/plain": [
              "            ID  POST_3Y_IVUS  STENT  AGE  GENDER  CIGARETTE  HYPERTENSION  \\\n",
              "0  96286100114             0      2   64       1          0             1   \n",
              "1  96286100218             0      1   58       1          0             1   \n",
              "2  96286100419             0      1   49       1          1             0   \n",
              "3  96286100513             0      2   54       1          0             0   \n",
              "4  96286100913             0      1   67       1          0             1   \n",
              "\n",
              "   DYSILIPIDEMIA  PRIOR_MI    FAMILY_HISTORY  ...  OVERLAPPING  ST  ST_DAYS  \\\n",
              "0              1           0               0  ...            0   0       -1   \n",
              "1              1           0               0  ...            0   0       -1   \n",
              "2              1           1               0  ...            1   0       -1   \n",
              "3              1           0               0  ...            0   0       -1   \n",
              "4              1           0               1  ...            0   0       -1   \n",
              "\n",
              "   MI_DAYS  PRE_CK  PRE_CKMB  PRE_cTn  RATIO_PRE_CK  RATIO_PRE_CKMB  MACE_ABI  \n",
              "0       -1      34      0.50      0.1      0.174359        0.106383        -1  \n",
              "1       -1     208      3.20      0.1      0.106667        0.680851        -1  \n",
              "2       -1      48      1.30      0.1      0.246154        0.276596        -1  \n",
              "3       -1      82      1.20      0.1      0.420513        0.255319        -1  \n",
              "4       -1     154      2.75      0.3      0.789744        0.442122        -1  \n",
              "\n",
              "[5 rows x 33 columns]"
            ],
            "text/html": [
              "\n",
              "  <div id=\"df-47a3f251-1642-42e6-a578-a6a1822043d9\">\n",
              "    <div class=\"colab-df-container\">\n",
              "      <div>\n",
              "<style scoped>\n",
              "    .dataframe tbody tr th:only-of-type {\n",
              "        vertical-align: middle;\n",
              "    }\n",
              "\n",
              "    .dataframe tbody tr th {\n",
              "        vertical-align: top;\n",
              "    }\n",
              "\n",
              "    .dataframe thead th {\n",
              "        text-align: right;\n",
              "    }\n",
              "</style>\n",
              "<table border=\"1\" class=\"dataframe\">\n",
              "  <thead>\n",
              "    <tr style=\"text-align: right;\">\n",
              "      <th></th>\n",
              "      <th>ID</th>\n",
              "      <th>POST_3Y_IVUS</th>\n",
              "      <th>STENT</th>\n",
              "      <th>AGE</th>\n",
              "      <th>GENDER</th>\n",
              "      <th>CIGARETTE</th>\n",
              "      <th>HYPERTENSION</th>\n",
              "      <th>DYSILIPIDEMIA</th>\n",
              "      <th>PRIOR_MI</th>\n",
              "      <th>FAMILY_HISTORY</th>\n",
              "      <th>...</th>\n",
              "      <th>OVERLAPPING</th>\n",
              "      <th>ST</th>\n",
              "      <th>ST_DAYS</th>\n",
              "      <th>MI_DAYS</th>\n",
              "      <th>PRE_CK</th>\n",
              "      <th>PRE_CKMB</th>\n",
              "      <th>PRE_cTn</th>\n",
              "      <th>RATIO_PRE_CK</th>\n",
              "      <th>RATIO_PRE_CKMB</th>\n",
              "      <th>MACE_ABI</th>\n",
              "    </tr>\n",
              "  </thead>\n",
              "  <tbody>\n",
              "    <tr>\n",
              "      <th>0</th>\n",
              "      <td>96286100114</td>\n",
              "      <td>0</td>\n",
              "      <td>2</td>\n",
              "      <td>64</td>\n",
              "      <td>1</td>\n",
              "      <td>0</td>\n",
              "      <td>1</td>\n",
              "      <td>1</td>\n",
              "      <td>0</td>\n",
              "      <td>0</td>\n",
              "      <td>...</td>\n",
              "      <td>0</td>\n",
              "      <td>0</td>\n",
              "      <td>-1</td>\n",
              "      <td>-1</td>\n",
              "      <td>34</td>\n",
              "      <td>0.50</td>\n",
              "      <td>0.1</td>\n",
              "      <td>0.174359</td>\n",
              "      <td>0.106383</td>\n",
              "      <td>-1</td>\n",
              "    </tr>\n",
              "    <tr>\n",
              "      <th>1</th>\n",
              "      <td>96286100218</td>\n",
              "      <td>0</td>\n",
              "      <td>1</td>\n",
              "      <td>58</td>\n",
              "      <td>1</td>\n",
              "      <td>0</td>\n",
              "      <td>1</td>\n",
              "      <td>1</td>\n",
              "      <td>0</td>\n",
              "      <td>0</td>\n",
              "      <td>...</td>\n",
              "      <td>0</td>\n",
              "      <td>0</td>\n",
              "      <td>-1</td>\n",
              "      <td>-1</td>\n",
              "      <td>208</td>\n",
              "      <td>3.20</td>\n",
              "      <td>0.1</td>\n",
              "      <td>0.106667</td>\n",
              "      <td>0.680851</td>\n",
              "      <td>-1</td>\n",
              "    </tr>\n",
              "    <tr>\n",
              "      <th>2</th>\n",
              "      <td>96286100419</td>\n",
              "      <td>0</td>\n",
              "      <td>1</td>\n",
              "      <td>49</td>\n",
              "      <td>1</td>\n",
              "      <td>1</td>\n",
              "      <td>0</td>\n",
              "      <td>1</td>\n",
              "      <td>1</td>\n",
              "      <td>0</td>\n",
              "      <td>...</td>\n",
              "      <td>1</td>\n",
              "      <td>0</td>\n",
              "      <td>-1</td>\n",
              "      <td>-1</td>\n",
              "      <td>48</td>\n",
              "      <td>1.30</td>\n",
              "      <td>0.1</td>\n",
              "      <td>0.246154</td>\n",
              "      <td>0.276596</td>\n",
              "      <td>-1</td>\n",
              "    </tr>\n",
              "    <tr>\n",
              "      <th>3</th>\n",
              "      <td>96286100513</td>\n",
              "      <td>0</td>\n",
              "      <td>2</td>\n",
              "      <td>54</td>\n",
              "      <td>1</td>\n",
              "      <td>0</td>\n",
              "      <td>0</td>\n",
              "      <td>1</td>\n",
              "      <td>0</td>\n",
              "      <td>0</td>\n",
              "      <td>...</td>\n",
              "      <td>0</td>\n",
              "      <td>0</td>\n",
              "      <td>-1</td>\n",
              "      <td>-1</td>\n",
              "      <td>82</td>\n",
              "      <td>1.20</td>\n",
              "      <td>0.1</td>\n",
              "      <td>0.420513</td>\n",
              "      <td>0.255319</td>\n",
              "      <td>-1</td>\n",
              "    </tr>\n",
              "    <tr>\n",
              "      <th>4</th>\n",
              "      <td>96286100913</td>\n",
              "      <td>0</td>\n",
              "      <td>1</td>\n",
              "      <td>67</td>\n",
              "      <td>1</td>\n",
              "      <td>0</td>\n",
              "      <td>1</td>\n",
              "      <td>1</td>\n",
              "      <td>0</td>\n",
              "      <td>1</td>\n",
              "      <td>...</td>\n",
              "      <td>0</td>\n",
              "      <td>0</td>\n",
              "      <td>-1</td>\n",
              "      <td>-1</td>\n",
              "      <td>154</td>\n",
              "      <td>2.75</td>\n",
              "      <td>0.3</td>\n",
              "      <td>0.789744</td>\n",
              "      <td>0.442122</td>\n",
              "      <td>-1</td>\n",
              "    </tr>\n",
              "  </tbody>\n",
              "</table>\n",
              "<p>5 rows × 33 columns</p>\n",
              "</div>\n",
              "      <button class=\"colab-df-convert\" onclick=\"convertToInteractive('df-47a3f251-1642-42e6-a578-a6a1822043d9')\"\n",
              "              title=\"Convert this dataframe to an interactive table.\"\n",
              "              style=\"display:none;\">\n",
              "        \n",
              "  <svg xmlns=\"http://www.w3.org/2000/svg\" height=\"24px\"viewBox=\"0 0 24 24\"\n",
              "       width=\"24px\">\n",
              "    <path d=\"M0 0h24v24H0V0z\" fill=\"none\"/>\n",
              "    <path d=\"M18.56 5.44l.94 2.06.94-2.06 2.06-.94-2.06-.94-.94-2.06-.94 2.06-2.06.94zm-11 1L8.5 8.5l.94-2.06 2.06-.94-2.06-.94L8.5 2.5l-.94 2.06-2.06.94zm10 10l.94 2.06.94-2.06 2.06-.94-2.06-.94-.94-2.06-.94 2.06-2.06.94z\"/><path d=\"M17.41 7.96l-1.37-1.37c-.4-.4-.92-.59-1.43-.59-.52 0-1.04.2-1.43.59L10.3 9.45l-7.72 7.72c-.78.78-.78 2.05 0 2.83L4 21.41c.39.39.9.59 1.41.59.51 0 1.02-.2 1.41-.59l7.78-7.78 2.81-2.81c.8-.78.8-2.07 0-2.86zM5.41 20L4 18.59l7.72-7.72 1.47 1.35L5.41 20z\"/>\n",
              "  </svg>\n",
              "      </button>\n",
              "      \n",
              "  <style>\n",
              "    .colab-df-container {\n",
              "      display:flex;\n",
              "      flex-wrap:wrap;\n",
              "      gap: 12px;\n",
              "    }\n",
              "\n",
              "    .colab-df-convert {\n",
              "      background-color: #E8F0FE;\n",
              "      border: none;\n",
              "      border-radius: 50%;\n",
              "      cursor: pointer;\n",
              "      display: none;\n",
              "      fill: #1967D2;\n",
              "      height: 32px;\n",
              "      padding: 0 0 0 0;\n",
              "      width: 32px;\n",
              "    }\n",
              "\n",
              "    .colab-df-convert:hover {\n",
              "      background-color: #E2EBFA;\n",
              "      box-shadow: 0px 1px 2px rgba(60, 64, 67, 0.3), 0px 1px 3px 1px rgba(60, 64, 67, 0.15);\n",
              "      fill: #174EA6;\n",
              "    }\n",
              "\n",
              "    [theme=dark] .colab-df-convert {\n",
              "      background-color: #3B4455;\n",
              "      fill: #D2E3FC;\n",
              "    }\n",
              "\n",
              "    [theme=dark] .colab-df-convert:hover {\n",
              "      background-color: #434B5C;\n",
              "      box-shadow: 0px 1px 3px 1px rgba(0, 0, 0, 0.15);\n",
              "      filter: drop-shadow(0px 1px 2px rgba(0, 0, 0, 0.3));\n",
              "      fill: #FFFFFF;\n",
              "    }\n",
              "  </style>\n",
              "\n",
              "      <script>\n",
              "        const buttonEl =\n",
              "          document.querySelector('#df-47a3f251-1642-42e6-a578-a6a1822043d9 button.colab-df-convert');\n",
              "        buttonEl.style.display =\n",
              "          google.colab.kernel.accessAllowed ? 'block' : 'none';\n",
              "\n",
              "        async function convertToInteractive(key) {\n",
              "          const element = document.querySelector('#df-47a3f251-1642-42e6-a578-a6a1822043d9');\n",
              "          const dataTable =\n",
              "            await google.colab.kernel.invokeFunction('convertToInteractive',\n",
              "                                                     [key], {});\n",
              "          if (!dataTable) return;\n",
              "\n",
              "          const docLinkHtml = 'Like what you see? Visit the ' +\n",
              "            '<a target=\"_blank\" href=https://colab.research.google.com/notebooks/data_table.ipynb>data table notebook</a>'\n",
              "            + ' to learn more about interactive tables.';\n",
              "          element.innerHTML = '';\n",
              "          dataTable['output_type'] = 'display_data';\n",
              "          await google.colab.output.renderOutput(dataTable, element);\n",
              "          const docLink = document.createElement('div');\n",
              "          docLink.innerHTML = docLinkHtml;\n",
              "          element.appendChild(docLink);\n",
              "        }\n",
              "      </script>\n",
              "    </div>\n",
              "  </div>\n",
              "  "
            ]
          },
          "metadata": {},
          "execution_count": 48
        }
      ]
    },
    {
      "cell_type": "code",
      "source": [
        "clinical_data.describe()"
      ],
      "metadata": {
        "id": "_0dpHAFyEDGf",
        "colab": {
          "base_uri": "https://localhost:8080/",
          "height": 390
        },
        "outputId": "34de620a-4ced-4c00-e207-a64355a69173"
      },
      "execution_count": 49,
      "outputs": [
        {
          "output_type": "execute_result",
          "data": {
            "text/plain": [
              "                 ID  POST_3Y_IVUS       STENT         AGE      GENDER  \\\n",
              "count  5.450000e+02    545.000000  545.000000  545.000000  545.000000   \n",
              "mean   8.044589e+10      0.702752    1.333945   61.603670    0.768807   \n",
              "std    4.375298e+10      0.457466    0.472054   10.002793    0.421983   \n",
              "min    9.628610e+09      0.000000    1.000000   34.000000    0.000000   \n",
              "25%    1.203661e+10      0.000000    1.000000   54.000000    1.000000   \n",
              "50%    1.012501e+11      1.000000    1.000000   61.000000    1.000000   \n",
              "75%    1.077831e+11      1.000000    2.000000   69.000000    1.000000   \n",
              "max    1.235361e+11      1.000000    2.000000   89.000000    1.000000   \n",
              "\n",
              "        CIGARETTE  HYPERTENSION  DYSILIPIDEMIA  PRIOR_MI    FAMILY_HISTORY  \\\n",
              "count  545.000000    545.000000     545.000000  545.000000      545.000000   \n",
              "mean     0.236697      0.666055       0.715596    0.277064        0.357798   \n",
              "std      0.425445      0.472054       0.451544    0.447960        0.479793   \n",
              "min      0.000000      0.000000       0.000000    0.000000        0.000000   \n",
              "25%      0.000000      0.000000       0.000000    0.000000        0.000000   \n",
              "50%      0.000000      1.000000       1.000000    0.000000        0.000000   \n",
              "75%      0.000000      1.000000       1.000000    1.000000        1.000000   \n",
              "max      1.000000      1.000000       1.000000    1.000000        1.000000   \n",
              "\n",
              "       ...  OVERLAPPING          ST     ST_DAYS     MI_DAYS      PRE_CK  \\\n",
              "count  ...   545.000000  545.000000  545.000000  545.000000  545.000000   \n",
              "mean   ...     0.194495    0.007339   -0.987156   -0.946789   93.860550   \n",
              "std    ...     0.396175    0.085434    0.165554    0.307555   67.635857   \n",
              "min    ...     0.000000    0.000000   -1.000000   -1.000000    0.000000   \n",
              "25%    ...     0.000000    0.000000   -1.000000   -1.000000   57.000000   \n",
              "50%    ...     0.000000    0.000000   -1.000000   -1.000000   89.000000   \n",
              "75%    ...     0.000000    0.000000   -1.000000   -1.000000   97.000000   \n",
              "max    ...     1.000000    1.000000    2.000000    2.000000  714.000000   \n",
              "\n",
              "         PRE_CKMB     PRE_cTn  RATIO_PRE_CK  RATIO_PRE_CKMB    MACE_ABI  \n",
              "count  545.000000  545.000000    545.000000      545.000000  545.000000  \n",
              "mean     2.427468    0.425552      0.425069        0.285955   -0.766972  \n",
              "std      2.870671    1.617907      0.192026        0.386716    0.761439  \n",
              "min     -1.000000   -1.000000      0.000000       -1.000000   -1.000000  \n",
              "25%      1.250000    0.200000      0.280513        0.212219   -1.000000  \n",
              "50%      1.890000    0.300000      0.435897        0.327974   -1.000000  \n",
              "75%      2.670000    0.300000      0.533333        0.463023   -1.000000  \n",
              "max     29.000000   29.000000      0.989744        1.160000    2.000000  \n",
              "\n",
              "[8 rows x 33 columns]"
            ],
            "text/html": [
              "\n",
              "  <div id=\"df-55eaa82f-5180-4b1a-a6f1-034ff887f2ba\">\n",
              "    <div class=\"colab-df-container\">\n",
              "      <div>\n",
              "<style scoped>\n",
              "    .dataframe tbody tr th:only-of-type {\n",
              "        vertical-align: middle;\n",
              "    }\n",
              "\n",
              "    .dataframe tbody tr th {\n",
              "        vertical-align: top;\n",
              "    }\n",
              "\n",
              "    .dataframe thead th {\n",
              "        text-align: right;\n",
              "    }\n",
              "</style>\n",
              "<table border=\"1\" class=\"dataframe\">\n",
              "  <thead>\n",
              "    <tr style=\"text-align: right;\">\n",
              "      <th></th>\n",
              "      <th>ID</th>\n",
              "      <th>POST_3Y_IVUS</th>\n",
              "      <th>STENT</th>\n",
              "      <th>AGE</th>\n",
              "      <th>GENDER</th>\n",
              "      <th>CIGARETTE</th>\n",
              "      <th>HYPERTENSION</th>\n",
              "      <th>DYSILIPIDEMIA</th>\n",
              "      <th>PRIOR_MI</th>\n",
              "      <th>FAMILY_HISTORY</th>\n",
              "      <th>...</th>\n",
              "      <th>OVERLAPPING</th>\n",
              "      <th>ST</th>\n",
              "      <th>ST_DAYS</th>\n",
              "      <th>MI_DAYS</th>\n",
              "      <th>PRE_CK</th>\n",
              "      <th>PRE_CKMB</th>\n",
              "      <th>PRE_cTn</th>\n",
              "      <th>RATIO_PRE_CK</th>\n",
              "      <th>RATIO_PRE_CKMB</th>\n",
              "      <th>MACE_ABI</th>\n",
              "    </tr>\n",
              "  </thead>\n",
              "  <tbody>\n",
              "    <tr>\n",
              "      <th>count</th>\n",
              "      <td>5.450000e+02</td>\n",
              "      <td>545.000000</td>\n",
              "      <td>545.000000</td>\n",
              "      <td>545.000000</td>\n",
              "      <td>545.000000</td>\n",
              "      <td>545.000000</td>\n",
              "      <td>545.000000</td>\n",
              "      <td>545.000000</td>\n",
              "      <td>545.000000</td>\n",
              "      <td>545.000000</td>\n",
              "      <td>...</td>\n",
              "      <td>545.000000</td>\n",
              "      <td>545.000000</td>\n",
              "      <td>545.000000</td>\n",
              "      <td>545.000000</td>\n",
              "      <td>545.000000</td>\n",
              "      <td>545.000000</td>\n",
              "      <td>545.000000</td>\n",
              "      <td>545.000000</td>\n",
              "      <td>545.000000</td>\n",
              "      <td>545.000000</td>\n",
              "    </tr>\n",
              "    <tr>\n",
              "      <th>mean</th>\n",
              "      <td>8.044589e+10</td>\n",
              "      <td>0.702752</td>\n",
              "      <td>1.333945</td>\n",
              "      <td>61.603670</td>\n",
              "      <td>0.768807</td>\n",
              "      <td>0.236697</td>\n",
              "      <td>0.666055</td>\n",
              "      <td>0.715596</td>\n",
              "      <td>0.277064</td>\n",
              "      <td>0.357798</td>\n",
              "      <td>...</td>\n",
              "      <td>0.194495</td>\n",
              "      <td>0.007339</td>\n",
              "      <td>-0.987156</td>\n",
              "      <td>-0.946789</td>\n",
              "      <td>93.860550</td>\n",
              "      <td>2.427468</td>\n",
              "      <td>0.425552</td>\n",
              "      <td>0.425069</td>\n",
              "      <td>0.285955</td>\n",
              "      <td>-0.766972</td>\n",
              "    </tr>\n",
              "    <tr>\n",
              "      <th>std</th>\n",
              "      <td>4.375298e+10</td>\n",
              "      <td>0.457466</td>\n",
              "      <td>0.472054</td>\n",
              "      <td>10.002793</td>\n",
              "      <td>0.421983</td>\n",
              "      <td>0.425445</td>\n",
              "      <td>0.472054</td>\n",
              "      <td>0.451544</td>\n",
              "      <td>0.447960</td>\n",
              "      <td>0.479793</td>\n",
              "      <td>...</td>\n",
              "      <td>0.396175</td>\n",
              "      <td>0.085434</td>\n",
              "      <td>0.165554</td>\n",
              "      <td>0.307555</td>\n",
              "      <td>67.635857</td>\n",
              "      <td>2.870671</td>\n",
              "      <td>1.617907</td>\n",
              "      <td>0.192026</td>\n",
              "      <td>0.386716</td>\n",
              "      <td>0.761439</td>\n",
              "    </tr>\n",
              "    <tr>\n",
              "      <th>min</th>\n",
              "      <td>9.628610e+09</td>\n",
              "      <td>0.000000</td>\n",
              "      <td>1.000000</td>\n",
              "      <td>34.000000</td>\n",
              "      <td>0.000000</td>\n",
              "      <td>0.000000</td>\n",
              "      <td>0.000000</td>\n",
              "      <td>0.000000</td>\n",
              "      <td>0.000000</td>\n",
              "      <td>0.000000</td>\n",
              "      <td>...</td>\n",
              "      <td>0.000000</td>\n",
              "      <td>0.000000</td>\n",
              "      <td>-1.000000</td>\n",
              "      <td>-1.000000</td>\n",
              "      <td>0.000000</td>\n",
              "      <td>-1.000000</td>\n",
              "      <td>-1.000000</td>\n",
              "      <td>0.000000</td>\n",
              "      <td>-1.000000</td>\n",
              "      <td>-1.000000</td>\n",
              "    </tr>\n",
              "    <tr>\n",
              "      <th>25%</th>\n",
              "      <td>1.203661e+10</td>\n",
              "      <td>0.000000</td>\n",
              "      <td>1.000000</td>\n",
              "      <td>54.000000</td>\n",
              "      <td>1.000000</td>\n",
              "      <td>0.000000</td>\n",
              "      <td>0.000000</td>\n",
              "      <td>0.000000</td>\n",
              "      <td>0.000000</td>\n",
              "      <td>0.000000</td>\n",
              "      <td>...</td>\n",
              "      <td>0.000000</td>\n",
              "      <td>0.000000</td>\n",
              "      <td>-1.000000</td>\n",
              "      <td>-1.000000</td>\n",
              "      <td>57.000000</td>\n",
              "      <td>1.250000</td>\n",
              "      <td>0.200000</td>\n",
              "      <td>0.280513</td>\n",
              "      <td>0.212219</td>\n",
              "      <td>-1.000000</td>\n",
              "    </tr>\n",
              "    <tr>\n",
              "      <th>50%</th>\n",
              "      <td>1.012501e+11</td>\n",
              "      <td>1.000000</td>\n",
              "      <td>1.000000</td>\n",
              "      <td>61.000000</td>\n",
              "      <td>1.000000</td>\n",
              "      <td>0.000000</td>\n",
              "      <td>1.000000</td>\n",
              "      <td>1.000000</td>\n",
              "      <td>0.000000</td>\n",
              "      <td>0.000000</td>\n",
              "      <td>...</td>\n",
              "      <td>0.000000</td>\n",
              "      <td>0.000000</td>\n",
              "      <td>-1.000000</td>\n",
              "      <td>-1.000000</td>\n",
              "      <td>89.000000</td>\n",
              "      <td>1.890000</td>\n",
              "      <td>0.300000</td>\n",
              "      <td>0.435897</td>\n",
              "      <td>0.327974</td>\n",
              "      <td>-1.000000</td>\n",
              "    </tr>\n",
              "    <tr>\n",
              "      <th>75%</th>\n",
              "      <td>1.077831e+11</td>\n",
              "      <td>1.000000</td>\n",
              "      <td>2.000000</td>\n",
              "      <td>69.000000</td>\n",
              "      <td>1.000000</td>\n",
              "      <td>0.000000</td>\n",
              "      <td>1.000000</td>\n",
              "      <td>1.000000</td>\n",
              "      <td>1.000000</td>\n",
              "      <td>1.000000</td>\n",
              "      <td>...</td>\n",
              "      <td>0.000000</td>\n",
              "      <td>0.000000</td>\n",
              "      <td>-1.000000</td>\n",
              "      <td>-1.000000</td>\n",
              "      <td>97.000000</td>\n",
              "      <td>2.670000</td>\n",
              "      <td>0.300000</td>\n",
              "      <td>0.533333</td>\n",
              "      <td>0.463023</td>\n",
              "      <td>-1.000000</td>\n",
              "    </tr>\n",
              "    <tr>\n",
              "      <th>max</th>\n",
              "      <td>1.235361e+11</td>\n",
              "      <td>1.000000</td>\n",
              "      <td>2.000000</td>\n",
              "      <td>89.000000</td>\n",
              "      <td>1.000000</td>\n",
              "      <td>1.000000</td>\n",
              "      <td>1.000000</td>\n",
              "      <td>1.000000</td>\n",
              "      <td>1.000000</td>\n",
              "      <td>1.000000</td>\n",
              "      <td>...</td>\n",
              "      <td>1.000000</td>\n",
              "      <td>1.000000</td>\n",
              "      <td>2.000000</td>\n",
              "      <td>2.000000</td>\n",
              "      <td>714.000000</td>\n",
              "      <td>29.000000</td>\n",
              "      <td>29.000000</td>\n",
              "      <td>0.989744</td>\n",
              "      <td>1.160000</td>\n",
              "      <td>2.000000</td>\n",
              "    </tr>\n",
              "  </tbody>\n",
              "</table>\n",
              "<p>8 rows × 33 columns</p>\n",
              "</div>\n",
              "      <button class=\"colab-df-convert\" onclick=\"convertToInteractive('df-55eaa82f-5180-4b1a-a6f1-034ff887f2ba')\"\n",
              "              title=\"Convert this dataframe to an interactive table.\"\n",
              "              style=\"display:none;\">\n",
              "        \n",
              "  <svg xmlns=\"http://www.w3.org/2000/svg\" height=\"24px\"viewBox=\"0 0 24 24\"\n",
              "       width=\"24px\">\n",
              "    <path d=\"M0 0h24v24H0V0z\" fill=\"none\"/>\n",
              "    <path d=\"M18.56 5.44l.94 2.06.94-2.06 2.06-.94-2.06-.94-.94-2.06-.94 2.06-2.06.94zm-11 1L8.5 8.5l.94-2.06 2.06-.94-2.06-.94L8.5 2.5l-.94 2.06-2.06.94zm10 10l.94 2.06.94-2.06 2.06-.94-2.06-.94-.94-2.06-.94 2.06-2.06.94z\"/><path d=\"M17.41 7.96l-1.37-1.37c-.4-.4-.92-.59-1.43-.59-.52 0-1.04.2-1.43.59L10.3 9.45l-7.72 7.72c-.78.78-.78 2.05 0 2.83L4 21.41c.39.39.9.59 1.41.59.51 0 1.02-.2 1.41-.59l7.78-7.78 2.81-2.81c.8-.78.8-2.07 0-2.86zM5.41 20L4 18.59l7.72-7.72 1.47 1.35L5.41 20z\"/>\n",
              "  </svg>\n",
              "      </button>\n",
              "      \n",
              "  <style>\n",
              "    .colab-df-container {\n",
              "      display:flex;\n",
              "      flex-wrap:wrap;\n",
              "      gap: 12px;\n",
              "    }\n",
              "\n",
              "    .colab-df-convert {\n",
              "      background-color: #E8F0FE;\n",
              "      border: none;\n",
              "      border-radius: 50%;\n",
              "      cursor: pointer;\n",
              "      display: none;\n",
              "      fill: #1967D2;\n",
              "      height: 32px;\n",
              "      padding: 0 0 0 0;\n",
              "      width: 32px;\n",
              "    }\n",
              "\n",
              "    .colab-df-convert:hover {\n",
              "      background-color: #E2EBFA;\n",
              "      box-shadow: 0px 1px 2px rgba(60, 64, 67, 0.3), 0px 1px 3px 1px rgba(60, 64, 67, 0.15);\n",
              "      fill: #174EA6;\n",
              "    }\n",
              "\n",
              "    [theme=dark] .colab-df-convert {\n",
              "      background-color: #3B4455;\n",
              "      fill: #D2E3FC;\n",
              "    }\n",
              "\n",
              "    [theme=dark] .colab-df-convert:hover {\n",
              "      background-color: #434B5C;\n",
              "      box-shadow: 0px 1px 3px 1px rgba(0, 0, 0, 0.15);\n",
              "      filter: drop-shadow(0px 1px 2px rgba(0, 0, 0, 0.3));\n",
              "      fill: #FFFFFF;\n",
              "    }\n",
              "  </style>\n",
              "\n",
              "      <script>\n",
              "        const buttonEl =\n",
              "          document.querySelector('#df-55eaa82f-5180-4b1a-a6f1-034ff887f2ba button.colab-df-convert');\n",
              "        buttonEl.style.display =\n",
              "          google.colab.kernel.accessAllowed ? 'block' : 'none';\n",
              "\n",
              "        async function convertToInteractive(key) {\n",
              "          const element = document.querySelector('#df-55eaa82f-5180-4b1a-a6f1-034ff887f2ba');\n",
              "          const dataTable =\n",
              "            await google.colab.kernel.invokeFunction('convertToInteractive',\n",
              "                                                     [key], {});\n",
              "          if (!dataTable) return;\n",
              "\n",
              "          const docLinkHtml = 'Like what you see? Visit the ' +\n",
              "            '<a target=\"_blank\" href=https://colab.research.google.com/notebooks/data_table.ipynb>data table notebook</a>'\n",
              "            + ' to learn more about interactive tables.';\n",
              "          element.innerHTML = '';\n",
              "          dataTable['output_type'] = 'display_data';\n",
              "          await google.colab.output.renderOutput(dataTable, element);\n",
              "          const docLink = document.createElement('div');\n",
              "          docLink.innerHTML = docLinkHtml;\n",
              "          element.appendChild(docLink);\n",
              "        }\n",
              "      </script>\n",
              "    </div>\n",
              "  </div>\n",
              "  "
            ]
          },
          "metadata": {},
          "execution_count": 49
        }
      ]
    },
    {
      "cell_type": "markdown",
      "source": [
        "Проверка, что данные не содержат пустые значения\n"
      ],
      "metadata": {
        "id": "-KSOhSiuNp5q"
      }
    },
    {
      "cell_type": "code",
      "source": [
        "clinical_data.isnull().sum()"
      ],
      "metadata": {
        "colab": {
          "base_uri": "https://localhost:8080/"
        },
        "id": "pobPYMknKdHP",
        "outputId": "6f3efacc-a8e2-437d-842f-6883266933f4"
      },
      "execution_count": 50,
      "outputs": [
        {
          "output_type": "execute_result",
          "data": {
            "text/plain": [
              "ID                      0\n",
              "POST_3Y_IVUS            0\n",
              "STENT                   0\n",
              "AGE                     0\n",
              "GENDER                  0\n",
              "CIGARETTE               0\n",
              "HYPERTENSION            0\n",
              "DYSILIPIDEMIA           0\n",
              "PRIOR_MI                0\n",
              "FAMILY_HISTORY          0\n",
              "DIABETES_INSULIN        0\n",
              "BMI                     0\n",
              "TOBACCO                 0\n",
              "HYPERCHOLESTEROLEMIA    0\n",
              "DIABETES                0\n",
              "ANGINA                  0\n",
              "POST_CK                 0\n",
              "POST_CKMB               0\n",
              "POST_cTn                0\n",
              "cTn_5                   0\n",
              "BAILOUT                 0\n",
              "SEGMENT                 0\n",
              "PERI_PROCEDURE_MI       0\n",
              "OVERLAPPING             0\n",
              "ST                      0\n",
              "ST_DAYS                 0\n",
              "MI_DAYS                 0\n",
              "PRE_CK                  0\n",
              "PRE_CKMB                0\n",
              "PRE_cTn                 0\n",
              "RATIO_PRE_CK            0\n",
              "RATIO_PRE_CKMB          0\n",
              "MACE_ABI                0\n",
              "dtype: int64"
            ]
          },
          "metadata": {},
          "execution_count": 50
        }
      ]
    },
    {
      "cell_type": "markdown",
      "source": [
        "Информация о данных - тип данных, количество"
      ],
      "metadata": {
        "id": "tpgFNBOsN_Vc"
      }
    },
    {
      "cell_type": "code",
      "source": [
        "clinical_data.info()"
      ],
      "metadata": {
        "colab": {
          "base_uri": "https://localhost:8080/"
        },
        "id": "dCwnVoqPz0ma",
        "outputId": "14585b6a-adef-4bd1-db87-5928772e9cc1"
      },
      "execution_count": 51,
      "outputs": [
        {
          "output_type": "stream",
          "name": "stdout",
          "text": [
            "<class 'pandas.core.frame.DataFrame'>\n",
            "RangeIndex: 545 entries, 0 to 544\n",
            "Data columns (total 33 columns):\n",
            " #   Column                Non-Null Count  Dtype  \n",
            "---  ------                --------------  -----  \n",
            " 0   ID                    545 non-null    int64  \n",
            " 1   POST_3Y_IVUS          545 non-null    int64  \n",
            " 2   STENT                 545 non-null    int64  \n",
            " 3   AGE                   545 non-null    int64  \n",
            " 4   GENDER                545 non-null    int64  \n",
            " 5   CIGARETTE             545 non-null    int64  \n",
            " 6   HYPERTENSION          545 non-null    int64  \n",
            " 7   DYSILIPIDEMIA         545 non-null    int64  \n",
            " 8   PRIOR_MI              545 non-null    int64  \n",
            " 9   FAMILY_HISTORY        545 non-null    int64  \n",
            " 10  DIABETES_INSULIN      545 non-null    int64  \n",
            " 11  BMI                   545 non-null    float64\n",
            " 12  TOBACCO               545 non-null    int64  \n",
            " 13  HYPERCHOLESTEROLEMIA  545 non-null    int64  \n",
            " 14  DIABETES              545 non-null    int64  \n",
            " 15  ANGINA                545 non-null    int64  \n",
            " 16  POST_CK               545 non-null    float64\n",
            " 17  POST_CKMB             545 non-null    float64\n",
            " 18  POST_cTn              545 non-null    float64\n",
            " 19  cTn_5                 545 non-null    int64  \n",
            " 20  BAILOUT               545 non-null    int64  \n",
            " 21  SEGMENT               545 non-null    int64  \n",
            " 22  PERI_PROCEDURE_MI     545 non-null    int64  \n",
            " 23  OVERLAPPING           545 non-null    int64  \n",
            " 24  ST                    545 non-null    int64  \n",
            " 25  ST_DAYS               545 non-null    int64  \n",
            " 26  MI_DAYS               545 non-null    int64  \n",
            " 27  PRE_CK                545 non-null    int64  \n",
            " 28  PRE_CKMB              545 non-null    float64\n",
            " 29  PRE_cTn               545 non-null    float64\n",
            " 30  RATIO_PRE_CK          545 non-null    float64\n",
            " 31  RATIO_PRE_CKMB        545 non-null    float64\n",
            " 32  MACE_ABI              545 non-null    int64  \n",
            "dtypes: float64(8), int64(25)\n",
            "memory usage: 140.6 KB\n"
          ]
        }
      ]
    },
    {
      "cell_type": "markdown",
      "source": [
        "Вывод названий всех колонок"
      ],
      "metadata": {
        "id": "rzIUyt0gOJpN"
      }
    },
    {
      "cell_type": "code",
      "source": [
        "clinical_data.columns"
      ],
      "metadata": {
        "colab": {
          "base_uri": "https://localhost:8080/"
        },
        "id": "Td5FLxNeEozR",
        "outputId": "7c7cda4a-0731-4563-e9db-f4c41289e9b9"
      },
      "execution_count": 52,
      "outputs": [
        {
          "output_type": "execute_result",
          "data": {
            "text/plain": [
              "Index(['ID', 'POST_3Y_IVUS', 'STENT', 'AGE', 'GENDER', 'CIGARETTE',\n",
              "       'HYPERTENSION', 'DYSILIPIDEMIA', 'PRIOR_MI  ', 'FAMILY_HISTORY',\n",
              "       'DIABETES_INSULIN', 'BMI', 'TOBACCO', 'HYPERCHOLESTEROLEMIA',\n",
              "       'DIABETES', 'ANGINA', 'POST_CK', 'POST_CKMB', 'POST_cTn ', 'cTn_5',\n",
              "       'BAILOUT', 'SEGMENT', 'PERI_PROCEDURE_MI', 'OVERLAPPING', 'ST',\n",
              "       'ST_DAYS', 'MI_DAYS', 'PRE_CK', 'PRE_CKMB', 'PRE_cTn', 'RATIO_PRE_CK',\n",
              "       'RATIO_PRE_CKMB', 'MACE_ABI'],\n",
              "      dtype='object')"
            ]
          },
          "metadata": {},
          "execution_count": 52
        }
      ]
    },
    {
      "cell_type": "markdown",
      "source": [
        "Визуализация в виде гистограммы распределения для выбранной колонки. Ожидается увидеть нормальное распределение.\n"
      ],
      "metadata": {
        "id": "WZOvv4JkOU2d"
      }
    },
    {
      "cell_type": "code",
      "source": [
        "fig = plt.figure\n",
        "fig,ax= plt.subplots(figsize=(7,7))\n",
        "sns.distplot(clinical_data.POST_CKMB,color='red',label='POST_CKMB',ax=ax)\n",
        "plt.show()"
      ],
      "metadata": {
        "colab": {
          "base_uri": "https://localhost:8080/",
          "height": 443
        },
        "id": "YLH0xogLEU-0",
        "outputId": "0c0164b1-03ab-4beb-999a-38127538577e"
      },
      "execution_count": 53,
      "outputs": [
        {
          "output_type": "display_data",
          "data": {
            "text/plain": [
              "<Figure size 504x504 with 1 Axes>"
            ],
            "image/png": "[encoded data removed]"
          },
          "metadata": {
            "needs_background": "light"
          }
        }
      ]
    },
    {
      "cell_type": "markdown",
      "source": [
        "Строим график QQ (квантиль-квантиль) для ясности и уточнения значений. Если есть сильные отклонения от красной линии - не нормальное распределение."
      ],
      "metadata": {
        "id": "v6UkYmTjQeS-"
      }
    },
    {
      "cell_type": "code",
      "source": [
        "from statsmodels.graphics.gofplots import qqplot\n",
        "from matplotlib import pyplot\n",
        "qqplot(clinical_data.BMI, line='s')\n",
        "plt.show()"
      ],
      "metadata": {
        "colab": {
          "base_uri": "https://localhost:8080/",
          "height": 281
        },
        "id": "CVEs_VWuFOD4",
        "outputId": "eddcde1f-2486-4d1a-8f96-4b49c4fae060"
      },
      "execution_count": 54,
      "outputs": [
        {
          "output_type": "display_data",
          "data": {
            "text/plain": [
              "<Figure size 432x288 with 1 Axes>"
            ],
            "image/png": "[encoded data removed]"
          },
          "metadata": {
            "needs_background": "light"
          }
        }
      ]
    },
    {
      "cell_type": "markdown",
      "source": [
        "# Визуализация данных"
      ],
      "metadata": {
        "id": "-Q0YTs6ejDJU"
      }
    },
    {
      "cell_type": "code",
      "source": [
        "clinical_data['GENDER'].value_counts().plot(kind='pie');"
      ],
      "metadata": {
        "colab": {
          "base_uri": "https://localhost:8080/",
          "height": 248
        },
        "id": "7tGK3FBUjHpI",
        "outputId": "3674184b-dd5c-42f7-9fb1-7795be16d8d6"
      },
      "execution_count": 55,
      "outputs": [
        {
          "output_type": "display_data",
          "data": {
            "text/plain": [
              "<Figure size 432x288 with 1 Axes>"
            ],
            "image/png": "[encoded data removed]"
          },
          "metadata": {}
        }
      ]
    },
    {
      "cell_type": "code",
      "source": [
        "clinical_data['AGE'].value_counts().plot(\n",
        "    kind='bar',\n",
        "    rot=0, \n",
        "    title='AGE', \n",
        "    xlabel='Возраст',\n",
        "    ylabel='Число пациентов',\n",
        "    legend=True,\n",
        "    grid=True\n",
        ");"
      ],
      "metadata": {
        "colab": {
          "base_uri": "https://localhost:8080/",
          "height": 295
        },
        "id": "rPKS6FVljw8j",
        "outputId": "9ef2ebee-7c0e-450e-ac12-d2895b62c017"
      },
      "execution_count": 56,
      "outputs": [
        {
          "output_type": "display_data",
          "data": {
            "text/plain": [
              "<Figure size 432x288 with 1 Axes>"
            ],
            "image/png": "[encoded data removed]"
          },
          "metadata": {
            "needs_background": "light"
          }
        }
      ]
    },
    {
      "cell_type": "code",
      "source": [
        "fig, ax = plt.subplots()\n",
        "ax.hist(clinical_data['BMI']);"
      ],
      "metadata": {
        "colab": {
          "base_uri": "https://localhost:8080/",
          "height": 265
        },
        "id": "hGd--BoKmAqz",
        "outputId": "aa9e32dc-b4f3-4cec-959d-0c7070ed7d9d"
      },
      "execution_count": 57,
      "outputs": [
        {
          "output_type": "display_data",
          "data": {
            "text/plain": [
              "<Figure size 432x288 with 1 Axes>"
            ],
            "image/png": "[encoded data removed]"
          },
          "metadata": {
            "needs_background": "light"
          }
        }
      ]
    },
    {
      "cell_type": "code",
      "source": [],
      "metadata": {
        "id": "NR9FXIcXyu9Y"
      },
      "execution_count": 57,
      "outputs": []
    },
    {
      "cell_type": "markdown",
      "source": [
        "# Генерация и анализ синтетических данных"
      ],
      "metadata": {
        "id": "QLl6NbD3jIRc"
      }
    },
    {
      "cell_type": "markdown",
      "source": [
        "SDV или Synthetic Data Vault - это пакет Python для генерации синтетических данных на основе предоставленного набора данных. Сгенерированные данные будут иметь те же свойства формата и статистику, что и предоставленный набор данных. SDV генерирует данные, применяя математические методы и модели машинного обучения. С помощью SVD можно обработать данные, даже если они содержат несколько типов данных и отсутствующие значения."
      ],
      "metadata": {
        "id": "LbbiVRnyR-kW"
      }
    },
    {
      "cell_type": "code",
      "source": [
        "pip install sdv"
      ],
      "metadata": {
        "id": "4RHyYzZ4KdMI",
        "colab": {
          "base_uri": "https://localhost:8080/",
          "height": 1000
        },
        "outputId": "9bcc00e9-8481-4741-ecd4-a6a1374d3a3b"
      },
      "execution_count": 58,
      "outputs": [
        {
          "output_type": "stream",
          "name": "stdout",
          "text": [
            "Looking in indexes: https://pypi.org/simple, https://us-python.pkg.dev/colab-wheels/public/simple/\n",
            "Collecting sdv\n",
            "  Downloading sdv-0.18.0-py2.py3-none-any.whl (103 kB)\n",
            "\u001b[2K     \u001b[90m━━━━━━━━━━━━━━━━━━━━━━━━━━━━━━━━━━━━━━━\u001b[0m \u001b[32m103.2/103.2 KB\u001b[0m \u001b[31m9.2 MB/s\u001b[0m eta \u001b[36m0:00:00\u001b[0m\n",
            "\u001b[?25hCollecting copulas<0.9,>=0.8.0\n",
            "  Downloading copulas-0.8.0-py2.py3-none-any.whl (53 kB)\n",
            "\u001b[2K     \u001b[90m━━━━━━━━━━━━━━━━━━━━━━━━━━━━━━━━━━━━━━━━\u001b[0m \u001b[32m53.6/53.6 KB\u001b[0m \u001b[31m6.4 MB/s\u001b[0m eta \u001b[36m0:00:00\u001b[0m\n",
            "\u001b[?25hRequirement already satisfied: pandas<2,>=1.1.3 in /usr/local/lib/python3.8/dist-packages (from sdv) (1.3.5)\n",
            "Collecting sdmetrics<0.10,>=0.9.0\n",
            "  Downloading sdmetrics-0.9.0-py2.py3-none-any.whl (140 kB)\n",
            "\u001b[2K     \u001b[90m━━━━━━━━━━━━━━━━━━━━━━━━━━━━━━━━━━━━━━\u001b[0m \u001b[32m140.0/140.0 KB\u001b[0m \u001b[31m16.8 MB/s\u001b[0m eta \u001b[36m0:00:00\u001b[0m\n",
            "\u001b[?25hCollecting rdt<2,>=1.3.0\n",
            "  Downloading rdt-1.3.0-py2.py3-none-any.whl (63 kB)\n",
            "\u001b[2K     \u001b[90m━━━━━━━━━━━━━━━━━━━━━━━━━━━━━━━━━━━━━━━━\u001b[0m \u001b[32m63.6/63.6 KB\u001b[0m \u001b[31m7.9 MB/s\u001b[0m eta \u001b[36m0:00:00\u001b[0m\n",
            "\u001b[?25hCollecting Faker<15,>=10\n",
            "  Downloading Faker-14.2.1-py3-none-any.whl (1.6 MB)\n",
            "\u001b[2K     \u001b[90m━━━━━━━━━━━━━━━━━━━━━━━━━━━━━━━━━━━━━━━━\u001b[0m \u001b[32m1.6/1.6 MB\u001b[0m \u001b[31m67.2 MB/s\u001b[0m eta \u001b[36m0:00:00\u001b[0m\n",
            "\u001b[?25hRequirement already satisfied: numpy<2,>=1.20.0 in /usr/local/lib/python3.8/dist-packages (from sdv) (1.21.6)\n",
            "Requirement already satisfied: tqdm<5,>=4.15 in /usr/local/lib/python3.8/dist-packages (from sdv) (4.64.1)\n",
            "Collecting ctgan<0.8,>=0.7.0\n",
            "  Downloading ctgan-0.7.0-py2.py3-none-any.whl (25 kB)\n",
            "Requirement already satisfied: cloudpickle<3.0,>=2.1.0 in /usr/local/lib/python3.8/dist-packages (from sdv) (2.2.1)\n",
            "Collecting graphviz<1,>=0.13.2\n",
            "  Downloading graphviz-0.20.1-py3-none-any.whl (47 kB)\n",
            "\u001b[2K     \u001b[90m━━━━━━━━━━━━━━━━━━━━━━━━━━━━━━━━━━━━━━━━\u001b[0m \u001b[32m47.0/47.0 KB\u001b[0m \u001b[31m6.3 MB/s\u001b[0m eta \u001b[36m0:00:00\u001b[0m\n",
            "\u001b[?25hCollecting deepecho<0.5,>=0.4.0\n",
            "  Downloading deepecho-0.4.0-py2.py3-none-any.whl (28 kB)\n",
            "Requirement already satisfied: scipy<2,>=1.5.4 in /usr/local/lib/python3.8/dist-packages (from copulas<0.9,>=0.8.0->sdv) (1.7.3)\n",
            "Collecting matplotlib<4,>=3.4.0\n",
            "  Downloading matplotlib-3.6.3-cp38-cp38-manylinux_2_12_x86_64.manylinux2010_x86_64.whl (9.4 MB)\n",
            "\u001b[2K     \u001b[90m━━━━━━━━━━━━━━━━━━━━━━━━━━━━━━━━━━━━━━━━\u001b[0m \u001b[32m9.4/9.4 MB\u001b[0m \u001b[31m66.6 MB/s\u001b[0m eta \u001b[36m0:00:00\u001b[0m\n",
            "\u001b[?25hCollecting packaging<22,>=20\n",
            "  Downloading packaging-21.3-py3-none-any.whl (40 kB)\n",
            "\u001b[2K     \u001b[90m━━━━━━━━━━━━━━━━━━━━━━━━━━━━━━━━━━━━━━━━\u001b[0m \u001b[32m40.8/40.8 KB\u001b[0m \u001b[31m4.6 MB/s\u001b[0m eta \u001b[36m0:00:00\u001b[0m\n",
            "\u001b[?25hRequirement already satisfied: torch<2,>=1.8.0 in /usr/local/lib/python3.8/dist-packages (from ctgan<0.8,>=0.7.0->sdv) (1.13.1+cu116)\n",
            "Requirement already satisfied: python-dateutil>=2.4 in /usr/local/lib/python3.8/dist-packages (from Faker<15,>=10->sdv) (2.8.2)\n",
            "Requirement already satisfied: pytz>=2017.3 in /usr/local/lib/python3.8/dist-packages (from pandas<2,>=1.1.3->sdv) (2022.7.1)\n",
            "Collecting psutil<6,>=5.7\n",
            "  Downloading psutil-5.9.4-cp36-abi3-manylinux_2_12_x86_64.manylinux2010_x86_64.manylinux_2_17_x86_64.manylinux2014_x86_64.whl (280 kB)\n",
            "\u001b[2K     \u001b[90m━━━━━━━━━━━━━━━━━━━━━━━━━━━━━━━━━━━━━━\u001b[0m \u001b[32m280.2/280.2 KB\u001b[0m \u001b[31m24.9 MB/s\u001b[0m eta \u001b[36m0:00:00\u001b[0m\n",
            "\u001b[?25hRequirement already satisfied: scikit-learn<2,>=0.24 in /usr/local/lib/python3.8/dist-packages (from rdt<2,>=1.3.0->sdv) (1.0.2)\n",
            "Collecting plotly<6,>=5.10.0\n",
            "  Downloading plotly-5.13.0-py2.py3-none-any.whl (15.2 MB)\n",
            "\u001b[2K     \u001b[90m━━━━━━━━━━━━━━━━━━━━━━━━━━━━━━━━━━━━━━━━\u001b[0m \u001b[32m15.2/15.2 MB\u001b[0m \u001b[31m55.1 MB/s\u001b[0m eta \u001b[36m0:00:00\u001b[0m\n",
            "\u001b[?25hCollecting fonttools>=4.22.0\n",
            "  Downloading fonttools-4.38.0-py3-none-any.whl (965 kB)\n",
            "\u001b[2K     \u001b[90m━━━━━━━━━━━━━━━━━━━━━━━━━━━━━━━━━━━━━━\u001b[0m \u001b[32m965.4/965.4 KB\u001b[0m \u001b[31m46.8 MB/s\u001b[0m eta \u001b[36m0:00:00\u001b[0m\n",
            "\u001b[?25hRequirement already satisfied: pillow>=6.2.0 in /usr/local/lib/python3.8/dist-packages (from matplotlib<4,>=3.4.0->copulas<0.9,>=0.8.0->sdv) (7.1.2)\n",
            "Requirement already satisfied: kiwisolver>=1.0.1 in /usr/local/lib/python3.8/dist-packages (from matplotlib<4,>=3.4.0->copulas<0.9,>=0.8.0->sdv) (1.4.4)\n",
            "Requirement already satisfied: pyparsing>=2.2.1 in /usr/local/lib/python3.8/dist-packages (from matplotlib<4,>=3.4.0->copulas<0.9,>=0.8.0->sdv) (3.0.9)\n",
            "Collecting contourpy>=1.0.1\n",
            "  Downloading contourpy-1.0.7-cp38-cp38-manylinux_2_17_x86_64.manylinux2014_x86_64.whl (300 kB)\n",
            "\u001b[2K     \u001b[90m━━━━━━━━━━━━━━━━━━━━━━━━━━━━━━━━━━━━━━\u001b[0m \u001b[32m300.0/300.0 KB\u001b[0m \u001b[31m31.5 MB/s\u001b[0m eta \u001b[36m0:00:00\u001b[0m\n",
            "\u001b[?25hRequirement already satisfied: cycler>=0.10 in /usr/local/lib/python3.8/dist-packages (from matplotlib<4,>=3.4.0->copulas<0.9,>=0.8.0->sdv) (0.11.0)\n",
            "Requirement already satisfied: tenacity>=6.2.0 in /usr/local/lib/python3.8/dist-packages (from plotly<6,>=5.10.0->sdmetrics<0.10,>=0.9.0->sdv) (8.1.0)\n",
            "Requirement already satisfied: six>=1.5 in /usr/local/lib/python3.8/dist-packages (from python-dateutil>=2.4->Faker<15,>=10->sdv) (1.15.0)\n",
            "Requirement already satisfied: joblib>=0.11 in /usr/local/lib/python3.8/dist-packages (from scikit-learn<2,>=0.24->rdt<2,>=1.3.0->sdv) (1.2.0)\n",
            "Requirement already satisfied: threadpoolctl>=2.0.0 in /usr/local/lib/python3.8/dist-packages (from scikit-learn<2,>=0.24->rdt<2,>=1.3.0->sdv) (3.1.0)\n",
            "Requirement already satisfied: typing-extensions in /usr/local/lib/python3.8/dist-packages (from torch<2,>=1.8.0->ctgan<0.8,>=0.7.0->sdv) (4.4.0)\n",
            "Installing collected packages: psutil, plotly, packaging, graphviz, fonttools, contourpy, matplotlib, Faker, rdt, deepecho, copulas, sdmetrics, ctgan, sdv\n",
            "  Attempting uninstall: psutil\n",
            "    Found existing installation: psutil 5.4.8\n",
            "    Uninstalling psutil-5.4.8:\n",
            "      Successfully uninstalled psutil-5.4.8\n",
            "  Attempting uninstall: plotly\n",
            "    Found existing installation: plotly 5.5.0\n",
            "    Uninstalling plotly-5.5.0:\n",
            "      Successfully uninstalled plotly-5.5.0\n",
            "  Attempting uninstall: packaging\n",
            "    Found existing installation: packaging 23.0\n",
            "    Uninstalling packaging-23.0:\n",
            "      Successfully uninstalled packaging-23.0\n",
            "  Attempting uninstall: graphviz\n",
            "    Found existing installation: graphviz 0.10.1\n",
            "    Uninstalling graphviz-0.10.1:\n",
            "      Successfully uninstalled graphviz-0.10.1\n",
            "  Attempting uninstall: matplotlib\n",
            "    Found existing installation: matplotlib 3.2.2\n",
            "    Uninstalling matplotlib-3.2.2:\n",
            "      Successfully uninstalled matplotlib-3.2.2\n",
            "Successfully installed Faker-14.2.1 contourpy-1.0.7 copulas-0.8.0 ctgan-0.7.0 deepecho-0.4.0 fonttools-4.38.0 graphviz-0.20.1 matplotlib-3.6.3 packaging-21.3 plotly-5.13.0 psutil-5.9.4 rdt-1.3.0 sdmetrics-0.9.0 sdv-0.18.0\n"
          ]
        },
        {
          "output_type": "display_data",
          "data": {
            "application/vnd.colab-display-data+json": {
              "pip_warning": {
                "packages": [
                  "matplotlib",
                  "mpl_toolkits",
                  "psutil"
                ]
              }
            }
          },
          "metadata": {}
        }
      ]
    },
    {
      "cell_type": "markdown",
      "source": [
        "https://sdv.dev/SDV/user_guides/single_table/gaussian_copula.html"
      ],
      "metadata": {
        "id": "TURvUuwudivO"
      }
    },
    {
      "cell_type": "code",
      "source": [
        "from sdv.tabular import GaussianCopula\n",
        "from sdv.evaluation import evaluate"
      ],
      "metadata": {
        "id": "rOrpUI4pKjnH"
      },
      "execution_count": 59,
      "outputs": []
    },
    {
      "cell_type": "markdown",
      "source": [
        "Cгенерируем синтетические данные на основе клинического набора данных. Используем для этого одну из доступных моделей SVD Singular Table GaussianCopula. Создадим экземпляр класса(передадим в параметр модели primary_key указав колонку ID, чтобы значения в ней были уникальными; output_file_path чтобы сразу записать данные в файл) и вызовем метод fit, передав данные.\n",
        "После того как модель обучена, вызываем метод sample, указав количество строк, которые хотим сгенерировать."
      ],
      "metadata": {
        "id": "WZfnTFdDdxOS"
      }
    },
    {
      "cell_type": "code",
      "source": [
        "model = GaussianCopula(primary_key='ID')\n",
        "model.fit(clinical_data)\n",
        "sample = model.sample(num_rows=1000, output_file_path='synthetic_data_1000.csv')"
      ],
      "metadata": {
        "id": "IcezrZ8pMjuN"
      },
      "execution_count": 60,
      "outputs": []
    },
    {
      "cell_type": "markdown",
      "source": [
        "Сравним исходный набор данных с синтетическим набором с помощью функции evaluate. Результатом вызова функции является число от 0 до 1, которое показывает насколько похожи две таблицы: 0 - худший результат, 1 - наилучший возможный результат."
      ],
      "metadata": {
        "id": "KFiXOXI2eVlo"
      }
    },
    {
      "cell_type": "code",
      "source": [
        "evaluate(clinical_data, sample)"
      ],
      "metadata": {
        "colab": {
          "base_uri": "https://localhost:8080/"
        },
        "id": "GxmVH2LOjJW0",
        "outputId": "b4c8ef8b-b8f2-4eaa-ccff-5f2688215047"
      },
      "execution_count": 61,
      "outputs": [
        {
          "output_type": "execute_result",
          "data": {
            "text/plain": [
              "0.8176246872393662"
            ]
          },
          "metadata": {},
          "execution_count": 61
        }
      ]
    },
    {
      "cell_type": "markdown",
      "source": [
        "Функция оценки применяет набор предварительно настроенных метрических функций и возвращает среднее значение оценок, полученных данными для каждой из них, после их нормализации до диапазона 0–1 (смотреть на колонку raw_score). Чтобы увидеть различные метрики, которые были применены, нужно передать дополнительный аргумент aggregate = False, что заставит функцию оценки вернуть словарь с оценками, которые вернула каждая из функций метрик:"
      ],
      "metadata": {
        "id": "Sbd7X3SCe2Rx"
      }
    },
    {
      "cell_type": "code",
      "source": [
        "evaluate(clinical_data, sample, aggregate=False)"
      ],
      "metadata": {
        "id": "9nUtTD9fe_t-",
        "colab": {
          "base_uri": "https://localhost:8080/",
          "height": 111
        },
        "outputId": "27fc2627-61e5-47b2-8658-79f274169ee1"
      },
      "execution_count": 62,
      "outputs": [
        {
          "output_type": "execute_result",
          "data": {
            "text/plain": [
              "         metric                                     name  raw_score  \\\n",
              "0  KSComplement  Inverted Kolmogorov-Smirnov D statistic   0.817625   \n",
              "1        CSTest                              Chi-Squared        NaN   \n",
              "\n",
              "   normalized_score  min_value  max_value      goal  \\\n",
              "0          0.817625        0.0        1.0  MAXIMIZE   \n",
              "1               NaN        0.0        1.0  MAXIMIZE   \n",
              "\n",
              "                                               error  \n",
              "0                                               None  \n",
              "1  Cannot find fields of types ('boolean', 'categ...  "
            ],
            "text/html": [
              "\n",
              "  <div id=\"df-4b694d53-f7e3-45d9-8a8a-5a5ac4125ebd\">\n",
              "    <div class=\"colab-df-container\">\n",
              "      <div>\n",
              "<style scoped>\n",
              "    .dataframe tbody tr th:only-of-type {\n",
              "        vertical-align: middle;\n",
              "    }\n",
              "\n",
              "    .dataframe tbody tr th {\n",
              "        vertical-align: top;\n",
              "    }\n",
              "\n",
              "    .dataframe thead th {\n",
              "        text-align: right;\n",
              "    }\n",
              "</style>\n",
              "<table border=\"1\" class=\"dataframe\">\n",
              "  <thead>\n",
              "    <tr style=\"text-align: right;\">\n",
              "      <th></th>\n",
              "      <th>metric</th>\n",
              "      <th>name</th>\n",
              "      <th>raw_score</th>\n",
              "      <th>normalized_score</th>\n",
              "      <th>min_value</th>\n",
              "      <th>max_value</th>\n",
              "      <th>goal</th>\n",
              "      <th>error</th>\n",
              "    </tr>\n",
              "  </thead>\n",
              "  <tbody>\n",
              "    <tr>\n",
              "      <th>0</th>\n",
              "      <td>KSComplement</td>\n",
              "      <td>Inverted Kolmogorov-Smirnov D statistic</td>\n",
              "      <td>0.817625</td>\n",
              "      <td>0.817625</td>\n",
              "      <td>0.0</td>\n",
              "      <td>1.0</td>\n",
              "      <td>MAXIMIZE</td>\n",
              "      <td>None</td>\n",
              "    </tr>\n",
              "    <tr>\n",
              "      <th>1</th>\n",
              "      <td>CSTest</td>\n",
              "      <td>Chi-Squared</td>\n",
              "      <td>NaN</td>\n",
              "      <td>NaN</td>\n",
              "      <td>0.0</td>\n",
              "      <td>1.0</td>\n",
              "      <td>MAXIMIZE</td>\n",
              "      <td>Cannot find fields of types ('boolean', 'categ...</td>\n",
              "    </tr>\n",
              "  </tbody>\n",
              "</table>\n",
              "</div>\n",
              "      <button class=\"colab-df-convert\" onclick=\"convertToInteractive('df-4b694d53-f7e3-45d9-8a8a-5a5ac4125ebd')\"\n",
              "              title=\"Convert this dataframe to an interactive table.\"\n",
              "              style=\"display:none;\">\n",
              "        \n",
              "  <svg xmlns=\"http://www.w3.org/2000/svg\" height=\"24px\"viewBox=\"0 0 24 24\"\n",
              "       width=\"24px\">\n",
              "    <path d=\"M0 0h24v24H0V0z\" fill=\"none\"/>\n",
              "    <path d=\"M18.56 5.44l.94 2.06.94-2.06 2.06-.94-2.06-.94-.94-2.06-.94 2.06-2.06.94zm-11 1L8.5 8.5l.94-2.06 2.06-.94-2.06-.94L8.5 2.5l-.94 2.06-2.06.94zm10 10l.94 2.06.94-2.06 2.06-.94-2.06-.94-.94-2.06-.94 2.06-2.06.94z\"/><path d=\"M17.41 7.96l-1.37-1.37c-.4-.4-.92-.59-1.43-.59-.52 0-1.04.2-1.43.59L10.3 9.45l-7.72 7.72c-.78.78-.78 2.05 0 2.83L4 21.41c.39.39.9.59 1.41.59.51 0 1.02-.2 1.41-.59l7.78-7.78 2.81-2.81c.8-.78.8-2.07 0-2.86zM5.41 20L4 18.59l7.72-7.72 1.47 1.35L5.41 20z\"/>\n",
              "  </svg>\n",
              "      </button>\n",
              "      \n",
              "  <style>\n",
              "    .colab-df-container {\n",
              "      display:flex;\n",
              "      flex-wrap:wrap;\n",
              "      gap: 12px;\n",
              "    }\n",
              "\n",
              "    .colab-df-convert {\n",
              "      background-color: #E8F0FE;\n",
              "      border: none;\n",
              "      border-radius: 50%;\n",
              "      cursor: pointer;\n",
              "      display: none;\n",
              "      fill: #1967D2;\n",
              "      height: 32px;\n",
              "      padding: 0 0 0 0;\n",
              "      width: 32px;\n",
              "    }\n",
              "\n",
              "    .colab-df-convert:hover {\n",
              "      background-color: #E2EBFA;\n",
              "      box-shadow: 0px 1px 2px rgba(60, 64, 67, 0.3), 0px 1px 3px 1px rgba(60, 64, 67, 0.15);\n",
              "      fill: #174EA6;\n",
              "    }\n",
              "\n",
              "    [theme=dark] .colab-df-convert {\n",
              "      background-color: #3B4455;\n",
              "      fill: #D2E3FC;\n",
              "    }\n",
              "\n",
              "    [theme=dark] .colab-df-convert:hover {\n",
              "      background-color: #434B5C;\n",
              "      box-shadow: 0px 1px 3px 1px rgba(0, 0, 0, 0.15);\n",
              "      filter: drop-shadow(0px 1px 2px rgba(0, 0, 0, 0.3));\n",
              "      fill: #FFFFFF;\n",
              "    }\n",
              "  </style>\n",
              "\n",
              "      <script>\n",
              "        const buttonEl =\n",
              "          document.querySelector('#df-4b694d53-f7e3-45d9-8a8a-5a5ac4125ebd button.colab-df-convert');\n",
              "        buttonEl.style.display =\n",
              "          google.colab.kernel.accessAllowed ? 'block' : 'none';\n",
              "\n",
              "        async function convertToInteractive(key) {\n",
              "          const element = document.querySelector('#df-4b694d53-f7e3-45d9-8a8a-5a5ac4125ebd');\n",
              "          const dataTable =\n",
              "            await google.colab.kernel.invokeFunction('convertToInteractive',\n",
              "                                                     [key], {});\n",
              "          if (!dataTable) return;\n",
              "\n",
              "          const docLinkHtml = 'Like what you see? Visit the ' +\n",
              "            '<a target=\"_blank\" href=https://colab.research.google.com/notebooks/data_table.ipynb>data table notebook</a>'\n",
              "            + ' to learn more about interactive tables.';\n",
              "          element.innerHTML = '';\n",
              "          dataTable['output_type'] = 'display_data';\n",
              "          await google.colab.output.renderOutput(dataTable, element);\n",
              "          const docLink = document.createElement('div');\n",
              "          docLink.innerHTML = docLinkHtml;\n",
              "          element.appendChild(docLink);\n",
              "        }\n",
              "      </script>\n",
              "    </div>\n",
              "  </div>\n",
              "  "
            ]
          },
          "metadata": {},
          "execution_count": 62
        }
      ]
    },
    {
      "cell_type": "markdown",
      "source": [
        "Полный список возможных метрик (https://github.com/sdv-dev/SDV/blob/master/tutorials/evaluation/Evaluating_Synthetic_Data.ipynb):\n",
        "\n",
        "**cstest**: эта метрика сравнивает распределения всех категориальных столбцов таблицы с помощью критерия хи-квадрат и возвращает среднее значение p, полученное по всем столбцам. Если таблицы, которые вы оцениваете, не содержат категориальных столбцов, результатом будет nan.\n",
        "\n",
        "\n",
        "**kscomplement**: эта метрика сравнивает распределения всех числовых столбцов таблицы с двухвыборочным тестом Колмогорова-Смирнова с использованием эмпирического CDF и возвращает среднее значение статистических значений KS, полученных по всем столбцам. Если таблицы, которые вы оцениваете, не содержат числовых столбцов, результатом будет nan.\n",
        "\n",
        "\n",
        "**logistic_detection**: эта метрика пытается использовать классификатор логистической регрессии, чтобы определить, является ли каждая строка реальной или синтетической, а затем оценивает ее производительность с помощью метрики «Площадь под кривой ROC». Возвращаемая оценка равна 1 минус оценка ROC AUC, полученная классификатором.\n",
        "\n",
        "\n",
        "**svc_detection**: эта метрика пытается использовать классификатор опорных векторов, чтобы определить, является ли каждая строка реальной или синтетической, а затем оценивает ее производительность с помощью метрики площади под кривой ROC. Возвращаемая оценка равна 1 минус оценка ROC AUC, полученная классификатором."
      ],
      "metadata": {
        "id": "sPKMKabmWx2N"
      }
    },
    {
      "cell_type": "code",
      "source": [
        "evaluate(clinical_data, sample,  metrics=['LogisticDetection'], aggregate=False)"
      ],
      "metadata": {
        "colab": {
          "base_uri": "https://localhost:8080/",
          "height": 80
        },
        "id": "XDoHRB1FXArb",
        "outputId": "de058c45-07f2-497f-86ae-6e174161426a"
      },
      "execution_count": 81,
      "outputs": [
        {
          "output_type": "execute_result",
          "data": {
            "text/plain": [
              "              metric                          name  raw_score  \\\n",
              "0  LogisticDetection  LogisticRegression Detection   0.019616   \n",
              "\n",
              "   normalized_score  min_value  max_value      goal error  \n",
              "0          0.019616        0.0        1.0  MAXIMIZE  None  "
            ],
            "text/html": [
              "\n",
              "  <div id=\"df-f4082783-2680-4317-ac0b-b2c65f5aba52\">\n",
              "    <div class=\"colab-df-container\">\n",
              "      <div>\n",
              "<style scoped>\n",
              "    .dataframe tbody tr th:only-of-type {\n",
              "        vertical-align: middle;\n",
              "    }\n",
              "\n",
              "    .dataframe tbody tr th {\n",
              "        vertical-align: top;\n",
              "    }\n",
              "\n",
              "    .dataframe thead th {\n",
              "        text-align: right;\n",
              "    }\n",
              "</style>\n",
              "<table border=\"1\" class=\"dataframe\">\n",
              "  <thead>\n",
              "    <tr style=\"text-align: right;\">\n",
              "      <th></th>\n",
              "      <th>metric</th>\n",
              "      <th>name</th>\n",
              "      <th>raw_score</th>\n",
              "      <th>normalized_score</th>\n",
              "      <th>min_value</th>\n",
              "      <th>max_value</th>\n",
              "      <th>goal</th>\n",
              "      <th>error</th>\n",
              "    </tr>\n",
              "  </thead>\n",
              "  <tbody>\n",
              "    <tr>\n",
              "      <th>0</th>\n",
              "      <td>LogisticDetection</td>\n",
              "      <td>LogisticRegression Detection</td>\n",
              "      <td>0.019616</td>\n",
              "      <td>0.019616</td>\n",
              "      <td>0.0</td>\n",
              "      <td>1.0</td>\n",
              "      <td>MAXIMIZE</td>\n",
              "      <td>None</td>\n",
              "    </tr>\n",
              "  </tbody>\n",
              "</table>\n",
              "</div>\n",
              "      <button class=\"colab-df-convert\" onclick=\"convertToInteractive('df-f4082783-2680-4317-ac0b-b2c65f5aba52')\"\n",
              "              title=\"Convert this dataframe to an interactive table.\"\n",
              "              style=\"display:none;\">\n",
              "        \n",
              "  <svg xmlns=\"http://www.w3.org/2000/svg\" height=\"24px\"viewBox=\"0 0 24 24\"\n",
              "       width=\"24px\">\n",
              "    <path d=\"M0 0h24v24H0V0z\" fill=\"none\"/>\n",
              "    <path d=\"M18.56 5.44l.94 2.06.94-2.06 2.06-.94-2.06-.94-.94-2.06-.94 2.06-2.06.94zm-11 1L8.5 8.5l.94-2.06 2.06-.94-2.06-.94L8.5 2.5l-.94 2.06-2.06.94zm10 10l.94 2.06.94-2.06 2.06-.94-2.06-.94-.94-2.06-.94 2.06-2.06.94z\"/><path d=\"M17.41 7.96l-1.37-1.37c-.4-.4-.92-.59-1.43-.59-.52 0-1.04.2-1.43.59L10.3 9.45l-7.72 7.72c-.78.78-.78 2.05 0 2.83L4 21.41c.39.39.9.59 1.41.59.51 0 1.02-.2 1.41-.59l7.78-7.78 2.81-2.81c.8-.78.8-2.07 0-2.86zM5.41 20L4 18.59l7.72-7.72 1.47 1.35L5.41 20z\"/>\n",
              "  </svg>\n",
              "      </button>\n",
              "      \n",
              "  <style>\n",
              "    .colab-df-container {\n",
              "      display:flex;\n",
              "      flex-wrap:wrap;\n",
              "      gap: 12px;\n",
              "    }\n",
              "\n",
              "    .colab-df-convert {\n",
              "      background-color: #E8F0FE;\n",
              "      border: none;\n",
              "      border-radius: 50%;\n",
              "      cursor: pointer;\n",
              "      display: none;\n",
              "      fill: #1967D2;\n",
              "      height: 32px;\n",
              "      padding: 0 0 0 0;\n",
              "      width: 32px;\n",
              "    }\n",
              "\n",
              "    .colab-df-convert:hover {\n",
              "      background-color: #E2EBFA;\n",
              "      box-shadow: 0px 1px 2px rgba(60, 64, 67, 0.3), 0px 1px 3px 1px rgba(60, 64, 67, 0.15);\n",
              "      fill: #174EA6;\n",
              "    }\n",
              "\n",
              "    [theme=dark] .colab-df-convert {\n",
              "      background-color: #3B4455;\n",
              "      fill: #D2E3FC;\n",
              "    }\n",
              "\n",
              "    [theme=dark] .colab-df-convert:hover {\n",
              "      background-color: #434B5C;\n",
              "      box-shadow: 0px 1px 3px 1px rgba(0, 0, 0, 0.15);\n",
              "      filter: drop-shadow(0px 1px 2px rgba(0, 0, 0, 0.3));\n",
              "      fill: #FFFFFF;\n",
              "    }\n",
              "  </style>\n",
              "\n",
              "      <script>\n",
              "        const buttonEl =\n",
              "          document.querySelector('#df-f4082783-2680-4317-ac0b-b2c65f5aba52 button.colab-df-convert');\n",
              "        buttonEl.style.display =\n",
              "          google.colab.kernel.accessAllowed ? 'block' : 'none';\n",
              "\n",
              "        async function convertToInteractive(key) {\n",
              "          const element = document.querySelector('#df-f4082783-2680-4317-ac0b-b2c65f5aba52');\n",
              "          const dataTable =\n",
              "            await google.colab.kernel.invokeFunction('convertToInteractive',\n",
              "                                                     [key], {});\n",
              "          if (!dataTable) return;\n",
              "\n",
              "          const docLinkHtml = 'Like what you see? Visit the ' +\n",
              "            '<a target=\"_blank\" href=https://colab.research.google.com/notebooks/data_table.ipynb>data table notebook</a>'\n",
              "            + ' to learn more about interactive tables.';\n",
              "          element.innerHTML = '';\n",
              "          dataTable['output_type'] = 'display_data';\n",
              "          await google.colab.output.renderOutput(dataTable, element);\n",
              "          const docLink = document.createElement('div');\n",
              "          docLink.innerHTML = docLinkHtml;\n",
              "          element.appendChild(docLink);\n",
              "        }\n",
              "      </script>\n",
              "    </div>\n",
              "  </div>\n",
              "  "
            ]
          },
          "metadata": {},
          "execution_count": 81
        }
      ]
    },
    {
      "cell_type": "markdown",
      "source": [
        "Проверка и анализ сгенерированных синтетических данных"
      ],
      "metadata": {
        "id": "juI23pOAgW8y"
      }
    },
    {
      "cell_type": "code",
      "source": [
        "sample.shape"
      ],
      "metadata": {
        "id": "0y60K3FlkzAe",
        "colab": {
          "base_uri": "https://localhost:8080/"
        },
        "outputId": "363fabfa-72e9-4407-efb8-79b1cc635f04"
      },
      "execution_count": 63,
      "outputs": [
        {
          "output_type": "execute_result",
          "data": {
            "text/plain": [
              "(1000, 33)"
            ]
          },
          "metadata": {},
          "execution_count": 63
        }
      ]
    },
    {
      "cell_type": "code",
      "source": [
        "sample.columns"
      ],
      "metadata": {
        "colab": {
          "base_uri": "https://localhost:8080/"
        },
        "id": "FR6KoeoaAAmH",
        "outputId": "c8455e8b-9b0e-4187-90f8-a3158758cecf"
      },
      "execution_count": 64,
      "outputs": [
        {
          "output_type": "execute_result",
          "data": {
            "text/plain": [
              "Index(['ID', 'POST_3Y_IVUS', 'STENT', 'AGE', 'GENDER', 'CIGARETTE',\n",
              "       'HYPERTENSION', 'DYSILIPIDEMIA', 'PRIOR_MI  ', 'FAMILY_HISTORY',\n",
              "       'DIABETES_INSULIN', 'BMI', 'TOBACCO', 'HYPERCHOLESTEROLEMIA',\n",
              "       'DIABETES', 'ANGINA', 'POST_CK', 'POST_CKMB', 'POST_cTn ', 'cTn_5',\n",
              "       'BAILOUT', 'SEGMENT', 'PERI_PROCEDURE_MI', 'OVERLAPPING', 'ST',\n",
              "       'ST_DAYS', 'MI_DAYS', 'PRE_CK', 'PRE_CKMB', 'PRE_cTn', 'RATIO_PRE_CK',\n",
              "       'RATIO_PRE_CKMB', 'MACE_ABI'],\n",
              "      dtype='object')"
            ]
          },
          "metadata": {},
          "execution_count": 64
        }
      ]
    },
    {
      "cell_type": "code",
      "source": [
        "sample.describe()"
      ],
      "metadata": {
        "colab": {
          "base_uri": "https://localhost:8080/",
          "height": 390
        },
        "id": "Srf9bW3PItDO",
        "outputId": "97d671c3-8fd3-4fe3-b734-91bc2f877108"
      },
      "execution_count": 65,
      "outputs": [
        {
          "output_type": "execute_result",
          "data": {
            "text/plain": [
              "                ID  POST_3Y_IVUS        STENT          AGE       GENDER  \\\n",
              "count  1000.000000   1000.000000  1000.000000  1000.000000  1000.000000   \n",
              "mean    499.500000      0.569000     1.465000    61.489000     0.653000   \n",
              "std     288.819436      0.495464     0.499023    10.135907     0.476254   \n",
              "min       0.000000      0.000000     1.000000    34.000000     0.000000   \n",
              "25%     249.750000      0.000000     1.000000    54.000000     0.000000   \n",
              "50%     499.500000      1.000000     1.000000    61.000000     1.000000   \n",
              "75%     749.250000      1.000000     2.000000    69.000000     1.000000   \n",
              "max     999.000000      1.000000     2.000000    89.000000     1.000000   \n",
              "\n",
              "         CIGARETTE  HYPERTENSION  DYSILIPIDEMIA  PRIOR_MI    FAMILY_HISTORY  \\\n",
              "count  1000.000000   1000.000000     1000.00000  1000.00000     1000.000000   \n",
              "mean      0.356000      0.578000        0.59400     0.45200        0.436000   \n",
              "std       0.479055      0.494126        0.49133     0.49794        0.496135   \n",
              "min       0.000000      0.000000        0.00000     0.00000        0.000000   \n",
              "25%       0.000000      0.000000        0.00000     0.00000        0.000000   \n",
              "50%       0.000000      1.000000        1.00000     0.00000        0.000000   \n",
              "75%       1.000000      1.000000        1.00000     1.00000        1.000000   \n",
              "max       1.000000      1.000000        1.00000     1.00000        1.000000   \n",
              "\n",
              "       ...  OVERLAPPING      ST      ST_DAYS      MI_DAYS       PRE_CK  \\\n",
              "count  ...  1000.000000  1000.0  1000.000000  1000.000000  1000.000000   \n",
              "mean   ...     0.309000     0.0    -0.999000    -0.890000    92.677000   \n",
              "std    ...     0.462312     0.0     0.031623     0.313046    66.904177   \n",
              "min    ...     0.000000     0.0    -1.000000    -1.000000     0.000000   \n",
              "25%    ...     0.000000     0.0    -1.000000    -1.000000    39.000000   \n",
              "50%    ...     0.000000     0.0    -1.000000    -1.000000    82.000000   \n",
              "75%    ...     1.000000     0.0    -1.000000    -1.000000   131.000000   \n",
              "max    ...     1.000000     0.0     0.000000     0.000000   345.000000   \n",
              "\n",
              "          PRE_CKMB      PRE_cTn  RATIO_PRE_CK  RATIO_PRE_CKMB     MACE_ABI  \n",
              "count  1000.000000  1000.000000   1000.000000     1000.000000  1000.000000  \n",
              "mean      2.537840     0.737466      0.421479        0.294555    -0.392000  \n",
              "std       2.637276     1.335716      0.194926        0.377497     0.607211  \n",
              "min      -1.000000    -0.998000      0.003370       -0.879523    -1.000000  \n",
              "25%       0.487500    -0.342500      0.284931        0.018128    -1.000000  \n",
              "50%       2.020000     0.429500      0.417730        0.291853     0.000000  \n",
              "75%       3.995000     1.553000      0.554967        0.586218     0.000000  \n",
              "max      14.310000     5.962000      0.960069        1.101029     2.000000  \n",
              "\n",
              "[8 rows x 33 columns]"
            ],
            "text/html": [
              "\n",
              "  <div id=\"df-338b2ea4-2d4e-4d09-bcd4-0dc1866c564d\">\n",
              "    <div class=\"colab-df-container\">\n",
              "      <div>\n",
              "<style scoped>\n",
              "    .dataframe tbody tr th:only-of-type {\n",
              "        vertical-align: middle;\n",
              "    }\n",
              "\n",
              "    .dataframe tbody tr th {\n",
              "        vertical-align: top;\n",
              "    }\n",
              "\n",
              "    .dataframe thead th {\n",
              "        text-align: right;\n",
              "    }\n",
              "</style>\n",
              "<table border=\"1\" class=\"dataframe\">\n",
              "  <thead>\n",
              "    <tr style=\"text-align: right;\">\n",
              "      <th></th>\n",
              "      <th>ID</th>\n",
              "      <th>POST_3Y_IVUS</th>\n",
              "      <th>STENT</th>\n",
              "      <th>AGE</th>\n",
              "      <th>GENDER</th>\n",
              "      <th>CIGARETTE</th>\n",
              "      <th>HYPERTENSION</th>\n",
              "      <th>DYSILIPIDEMIA</th>\n",
              "      <th>PRIOR_MI</th>\n",
              "      <th>FAMILY_HISTORY</th>\n",
              "      <th>...</th>\n",
              "      <th>OVERLAPPING</th>\n",
              "      <th>ST</th>\n",
              "      <th>ST_DAYS</th>\n",
              "      <th>MI_DAYS</th>\n",
              "      <th>PRE_CK</th>\n",
              "      <th>PRE_CKMB</th>\n",
              "      <th>PRE_cTn</th>\n",
              "      <th>RATIO_PRE_CK</th>\n",
              "      <th>RATIO_PRE_CKMB</th>\n",
              "      <th>MACE_ABI</th>\n",
              "    </tr>\n",
              "  </thead>\n",
              "  <tbody>\n",
              "    <tr>\n",
              "      <th>count</th>\n",
              "      <td>1000.000000</td>\n",
              "      <td>1000.000000</td>\n",
              "      <td>1000.000000</td>\n",
              "      <td>1000.000000</td>\n",
              "      <td>1000.000000</td>\n",
              "      <td>1000.000000</td>\n",
              "      <td>1000.000000</td>\n",
              "      <td>1000.00000</td>\n",
              "      <td>1000.00000</td>\n",
              "      <td>1000.000000</td>\n",
              "      <td>...</td>\n",
              "      <td>1000.000000</td>\n",
              "      <td>1000.0</td>\n",
              "      <td>1000.000000</td>\n",
              "      <td>1000.000000</td>\n",
              "      <td>1000.000000</td>\n",
              "      <td>1000.000000</td>\n",
              "      <td>1000.000000</td>\n",
              "      <td>1000.000000</td>\n",
              "      <td>1000.000000</td>\n",
              "      <td>1000.000000</td>\n",
              "    </tr>\n",
              "    <tr>\n",
              "      <th>mean</th>\n",
              "      <td>499.500000</td>\n",
              "      <td>0.569000</td>\n",
              "      <td>1.465000</td>\n",
              "      <td>61.489000</td>\n",
              "      <td>0.653000</td>\n",
              "      <td>0.356000</td>\n",
              "      <td>0.578000</td>\n",
              "      <td>0.59400</td>\n",
              "      <td>0.45200</td>\n",
              "      <td>0.436000</td>\n",
              "      <td>...</td>\n",
              "      <td>0.309000</td>\n",
              "      <td>0.0</td>\n",
              "      <td>-0.999000</td>\n",
              "      <td>-0.890000</td>\n",
              "      <td>92.677000</td>\n",
              "      <td>2.537840</td>\n",
              "      <td>0.737466</td>\n",
              "      <td>0.421479</td>\n",
              "      <td>0.294555</td>\n",
              "      <td>-0.392000</td>\n",
              "    </tr>\n",
              "    <tr>\n",
              "      <th>std</th>\n",
              "      <td>288.819436</td>\n",
              "      <td>0.495464</td>\n",
              "      <td>0.499023</td>\n",
              "      <td>10.135907</td>\n",
              "      <td>0.476254</td>\n",
              "      <td>0.479055</td>\n",
              "      <td>0.494126</td>\n",
              "      <td>0.49133</td>\n",
              "      <td>0.49794</td>\n",
              "      <td>0.496135</td>\n",
              "      <td>...</td>\n",
              "      <td>0.462312</td>\n",
              "      <td>0.0</td>\n",
              "      <td>0.031623</td>\n",
              "      <td>0.313046</td>\n",
              "      <td>66.904177</td>\n",
              "      <td>2.637276</td>\n",
              "      <td>1.335716</td>\n",
              "      <td>0.194926</td>\n",
              "      <td>0.377497</td>\n",
              "      <td>0.607211</td>\n",
              "    </tr>\n",
              "    <tr>\n",
              "      <th>min</th>\n",
              "      <td>0.000000</td>\n",
              "      <td>0.000000</td>\n",
              "      <td>1.000000</td>\n",
              "      <td>34.000000</td>\n",
              "      <td>0.000000</td>\n",
              "      <td>0.000000</td>\n",
              "      <td>0.000000</td>\n",
              "      <td>0.00000</td>\n",
              "      <td>0.00000</td>\n",
              "      <td>0.000000</td>\n",
              "      <td>...</td>\n",
              "      <td>0.000000</td>\n",
              "      <td>0.0</td>\n",
              "      <td>-1.000000</td>\n",
              "      <td>-1.000000</td>\n",
              "      <td>0.000000</td>\n",
              "      <td>-1.000000</td>\n",
              "      <td>-0.998000</td>\n",
              "      <td>0.003370</td>\n",
              "      <td>-0.879523</td>\n",
              "      <td>-1.000000</td>\n",
              "    </tr>\n",
              "    <tr>\n",
              "      <th>25%</th>\n",
              "      <td>249.750000</td>\n",
              "      <td>0.000000</td>\n",
              "      <td>1.000000</td>\n",
              "      <td>54.000000</td>\n",
              "      <td>0.000000</td>\n",
              "      <td>0.000000</td>\n",
              "      <td>0.000000</td>\n",
              "      <td>0.00000</td>\n",
              "      <td>0.00000</td>\n",
              "      <td>0.000000</td>\n",
              "      <td>...</td>\n",
              "      <td>0.000000</td>\n",
              "      <td>0.0</td>\n",
              "      <td>-1.000000</td>\n",
              "      <td>-1.000000</td>\n",
              "      <td>39.000000</td>\n",
              "      <td>0.487500</td>\n",
              "      <td>-0.342500</td>\n",
              "      <td>0.284931</td>\n",
              "      <td>0.018128</td>\n",
              "      <td>-1.000000</td>\n",
              "    </tr>\n",
              "    <tr>\n",
              "      <th>50%</th>\n",
              "      <td>499.500000</td>\n",
              "      <td>1.000000</td>\n",
              "      <td>1.000000</td>\n",
              "      <td>61.000000</td>\n",
              "      <td>1.000000</td>\n",
              "      <td>0.000000</td>\n",
              "      <td>1.000000</td>\n",
              "      <td>1.00000</td>\n",
              "      <td>0.00000</td>\n",
              "      <td>0.000000</td>\n",
              "      <td>...</td>\n",
              "      <td>0.000000</td>\n",
              "      <td>0.0</td>\n",
              "      <td>-1.000000</td>\n",
              "      <td>-1.000000</td>\n",
              "      <td>82.000000</td>\n",
              "      <td>2.020000</td>\n",
              "      <td>0.429500</td>\n",
              "      <td>0.417730</td>\n",
              "      <td>0.291853</td>\n",
              "      <td>0.000000</td>\n",
              "    </tr>\n",
              "    <tr>\n",
              "      <th>75%</th>\n",
              "      <td>749.250000</td>\n",
              "      <td>1.000000</td>\n",
              "      <td>2.000000</td>\n",
              "      <td>69.000000</td>\n",
              "      <td>1.000000</td>\n",
              "      <td>1.000000</td>\n",
              "      <td>1.000000</td>\n",
              "      <td>1.00000</td>\n",
              "      <td>1.00000</td>\n",
              "      <td>1.000000</td>\n",
              "      <td>...</td>\n",
              "      <td>1.000000</td>\n",
              "      <td>0.0</td>\n",
              "      <td>-1.000000</td>\n",
              "      <td>-1.000000</td>\n",
              "      <td>131.000000</td>\n",
              "      <td>3.995000</td>\n",
              "      <td>1.553000</td>\n",
              "      <td>0.554967</td>\n",
              "      <td>0.586218</td>\n",
              "      <td>0.000000</td>\n",
              "    </tr>\n",
              "    <tr>\n",
              "      <th>max</th>\n",
              "      <td>999.000000</td>\n",
              "      <td>1.000000</td>\n",
              "      <td>2.000000</td>\n",
              "      <td>89.000000</td>\n",
              "      <td>1.000000</td>\n",
              "      <td>1.000000</td>\n",
              "      <td>1.000000</td>\n",
              "      <td>1.00000</td>\n",
              "      <td>1.00000</td>\n",
              "      <td>1.000000</td>\n",
              "      <td>...</td>\n",
              "      <td>1.000000</td>\n",
              "      <td>0.0</td>\n",
              "      <td>0.000000</td>\n",
              "      <td>0.000000</td>\n",
              "      <td>345.000000</td>\n",
              "      <td>14.310000</td>\n",
              "      <td>5.962000</td>\n",
              "      <td>0.960069</td>\n",
              "      <td>1.101029</td>\n",
              "      <td>2.000000</td>\n",
              "    </tr>\n",
              "  </tbody>\n",
              "</table>\n",
              "<p>8 rows × 33 columns</p>\n",
              "</div>\n",
              "      <button class=\"colab-df-convert\" onclick=\"convertToInteractive('df-338b2ea4-2d4e-4d09-bcd4-0dc1866c564d')\"\n",
              "              title=\"Convert this dataframe to an interactive table.\"\n",
              "              style=\"display:none;\">\n",
              "        \n",
              "  <svg xmlns=\"http://www.w3.org/2000/svg\" height=\"24px\"viewBox=\"0 0 24 24\"\n",
              "       width=\"24px\">\n",
              "    <path d=\"M0 0h24v24H0V0z\" fill=\"none\"/>\n",
              "    <path d=\"M18.56 5.44l.94 2.06.94-2.06 2.06-.94-2.06-.94-.94-2.06-.94 2.06-2.06.94zm-11 1L8.5 8.5l.94-2.06 2.06-.94-2.06-.94L8.5 2.5l-.94 2.06-2.06.94zm10 10l.94 2.06.94-2.06 2.06-.94-2.06-.94-.94-2.06-.94 2.06-2.06.94z\"/><path d=\"M17.41 7.96l-1.37-1.37c-.4-.4-.92-.59-1.43-.59-.52 0-1.04.2-1.43.59L10.3 9.45l-7.72 7.72c-.78.78-.78 2.05 0 2.83L4 21.41c.39.39.9.59 1.41.59.51 0 1.02-.2 1.41-.59l7.78-7.78 2.81-2.81c.8-.78.8-2.07 0-2.86zM5.41 20L4 18.59l7.72-7.72 1.47 1.35L5.41 20z\"/>\n",
              "  </svg>\n",
              "      </button>\n",
              "      \n",
              "  <style>\n",
              "    .colab-df-container {\n",
              "      display:flex;\n",
              "      flex-wrap:wrap;\n",
              "      gap: 12px;\n",
              "    }\n",
              "\n",
              "    .colab-df-convert {\n",
              "      background-color: #E8F0FE;\n",
              "      border: none;\n",
              "      border-radius: 50%;\n",
              "      cursor: pointer;\n",
              "      display: none;\n",
              "      fill: #1967D2;\n",
              "      height: 32px;\n",
              "      padding: 0 0 0 0;\n",
              "      width: 32px;\n",
              "    }\n",
              "\n",
              "    .colab-df-convert:hover {\n",
              "      background-color: #E2EBFA;\n",
              "      box-shadow: 0px 1px 2px rgba(60, 64, 67, 0.3), 0px 1px 3px 1px rgba(60, 64, 67, 0.15);\n",
              "      fill: #174EA6;\n",
              "    }\n",
              "\n",
              "    [theme=dark] .colab-df-convert {\n",
              "      background-color: #3B4455;\n",
              "      fill: #D2E3FC;\n",
              "    }\n",
              "\n",
              "    [theme=dark] .colab-df-convert:hover {\n",
              "      background-color: #434B5C;\n",
              "      box-shadow: 0px 1px 3px 1px rgba(0, 0, 0, 0.15);\n",
              "      filter: drop-shadow(0px 1px 2px rgba(0, 0, 0, 0.3));\n",
              "      fill: #FFFFFF;\n",
              "    }\n",
              "  </style>\n",
              "\n",
              "      <script>\n",
              "        const buttonEl =\n",
              "          document.querySelector('#df-338b2ea4-2d4e-4d09-bcd4-0dc1866c564d button.colab-df-convert');\n",
              "        buttonEl.style.display =\n",
              "          google.colab.kernel.accessAllowed ? 'block' : 'none';\n",
              "\n",
              "        async function convertToInteractive(key) {\n",
              "          const element = document.querySelector('#df-338b2ea4-2d4e-4d09-bcd4-0dc1866c564d');\n",
              "          const dataTable =\n",
              "            await google.colab.kernel.invokeFunction('convertToInteractive',\n",
              "                                                     [key], {});\n",
              "          if (!dataTable) return;\n",
              "\n",
              "          const docLinkHtml = 'Like what you see? Visit the ' +\n",
              "            '<a target=\"_blank\" href=https://colab.research.google.com/notebooks/data_table.ipynb>data table notebook</a>'\n",
              "            + ' to learn more about interactive tables.';\n",
              "          element.innerHTML = '';\n",
              "          dataTable['output_type'] = 'display_data';\n",
              "          await google.colab.output.renderOutput(dataTable, element);\n",
              "          const docLink = document.createElement('div');\n",
              "          docLink.innerHTML = docLinkHtml;\n",
              "          element.appendChild(docLink);\n",
              "        }\n",
              "      </script>\n",
              "    </div>\n",
              "  </div>\n",
              "  "
            ]
          },
          "metadata": {},
          "execution_count": 65
        }
      ]
    },
    {
      "cell_type": "code",
      "source": [
        "fig = plt.figure\n",
        "fig,ax= plt.subplots(figsize=(7,7))\n",
        "sns.distplot(sample.MI_DAYS,color='red',label='bmi',ax=ax)\n",
        "plt.show()"
      ],
      "metadata": {
        "colab": {
          "base_uri": "https://localhost:8080/",
          "height": 443
        },
        "id": "Vjacg9YsJfjx",
        "outputId": "d349d56a-e709-4af6-cda2-32f7ba06c5c1"
      },
      "execution_count": 66,
      "outputs": [
        {
          "output_type": "display_data",
          "data": {
            "text/plain": [
              "<Figure size 504x504 with 1 Axes>"
            ],
            "image/png": "[encoded data removed]"
          },
          "metadata": {
            "needs_background": "light"
          }
        }
      ]
    },
    {
      "cell_type": "markdown",
      "source": [
        "изменить дни  на свою шкалу\n",
        "\n",
        "\n",
        "\n",
        "\n",
        "\n",
        "убрать тех у кого отсутсвует много данных\n",
        "\n",
        "\n",
        "\n",
        "модель на клинических, а предсказывать будет на синтетических\n",
        "\n",
        "\n",
        "\"хорошие\" близкие к клиничеки - синтетические - объединить и обучать на них\n"
      ],
      "metadata": {
        "id": "2hUY6WKnDiNy"
      }
    },
    {
      "cell_type": "markdown",
      "source": [
        "поменять занчений в колонке ID\n"
      ],
      "metadata": {
        "id": "Xibk1wIciHDI"
      }
    },
    {
      "cell_type": "markdown",
      "source": [
        "# Построение бейзлайна"
      ],
      "metadata": {
        "id": "4bg8KRFG1f4D"
      }
    },
    {
      "cell_type": "code",
      "source": [
        "from sklearn.datasets import load_breast_cancer \n",
        "from sklearn.model_selection import train_test_split \n",
        "from sklearn.dummy import DummyClassifier \n",
        "from sklearn.linear_model import LogisticRegression"
      ],
      "metadata": {
        "id": "RHahTm3t1sk4"
      },
      "execution_count": 68,
      "outputs": []
    },
    {
      "cell_type": "code",
      "source": [
        "y = 1 - clinical_data[\"MACE_ABI\"] \n",
        "X = clinical_data[['ID','STENT', 'AGE', 'GENDER', 'CIGARETTE',\n",
        "       'HYPERTENSION', 'DYSILIPIDEMIA', 'FAMILY_HISTORY',\n",
        "       'DIABETES_INSULIN', 'BMI', 'TOBACCO', 'HYPERCHOLESTEROLEMIA',\n",
        "       'DIABETES', 'ANGINA', 'POST_CK', 'POST_CKMB', 'POST_cTn ', 'cTn_5',\n",
        "       'BAILOUT', 'SEGMENT', 'PERI_PROCEDURE_MI', 'OVERLAPPING', 'ST',\n",
        "       'ST_DAYS', 'MI_DAYS', 'PRE_CK', 'PRE_CKMB', 'PRE_cTn', 'RATIO_PRE_CK',\n",
        "       'RATIO_PRE_CKMB']]\n",
        "\n",
        "X_train, X_test, y_train, y_test = train_test_split(X, y, random_state=2023, test_size=0.25) "
      ],
      "metadata": {
        "id": "mjBSEKcT1snk"
      },
      "execution_count": 69,
      "outputs": []
    },
    {
      "cell_type": "markdown",
      "source": [
        "DummyClassifier - baseline"
      ],
      "metadata": {
        "id": "EtyG5kf52jeF"
      }
    },
    {
      "cell_type": "code",
      "source": [
        "dummy_clf = DummyClassifier(strategy=\"most_frequent\") \n",
        "dummy_clf.fit(X_train, y_train);"
      ],
      "metadata": {
        "id": "nOPgxpvw2j3P"
      },
      "execution_count": 70,
      "outputs": []
    },
    {
      "cell_type": "markdown",
      "source": [
        "Логистическая регрессия - более сложная модель"
      ],
      "metadata": {
        "id": "NEdP4Lzy3FBZ"
      }
    },
    {
      "cell_type": "code",
      "source": [
        "log_reg = LogisticRegression()\n",
        "log_reg.fit(X_train, y_train);"
      ],
      "metadata": {
        "id": "Xbb5Go7p3FXU"
      },
      "execution_count": 82,
      "outputs": []
    },
    {
      "cell_type": "markdown",
      "source": [
        "Accuracy\n",
        "\n",
        "Accuracy (точность) - доля объектов, для которых мы правильно предсказали класс"
      ],
      "metadata": {
        "id": "jjaOSc2rTL81"
      }
    },
    {
      "cell_type": "code",
      "source": [
        "from sklearn.metrics import accuracy_score\n",
        "y_pred_dummy = dummy_clf.predict(X_test) \n",
        "accuracy_score(y_test, y_pred_dummy)"
      ],
      "metadata": {
        "colab": {
          "base_uri": "https://localhost:8080/"
        },
        "id": "N_24vZkUTYHy",
        "outputId": "6f9b6cc2-5b85-4839-808f-140da3161091"
      },
      "execution_count": 72,
      "outputs": [
        {
          "output_type": "execute_result",
          "data": {
            "text/plain": [
              "0.9197080291970803"
            ]
          },
          "metadata": {},
          "execution_count": 72
        }
      ]
    },
    {
      "cell_type": "code",
      "source": [
        "y_pred_log_reg = log_reg.predict(X_test) \n",
        "accuracy_score(y_test, y_pred_log_reg)"
      ],
      "metadata": {
        "colab": {
          "base_uri": "https://localhost:8080/"
        },
        "id": "KUOt77lyTbsH",
        "outputId": "59d528a2-bbc8-4cc7-ada2-6d1f3ba34a60"
      },
      "execution_count": 73,
      "outputs": [
        {
          "output_type": "execute_result",
          "data": {
            "text/plain": [
              "0.9197080291970803"
            ]
          },
          "metadata": {},
          "execution_count": 73
        }
      ]
    },
    {
      "cell_type": "markdown",
      "source": [
        "Precision & Recall"
      ],
      "metadata": {
        "id": "W_eHVWCCTmYA"
      }
    },
    {
      "cell_type": "code",
      "source": [
        "from sklearn.metrics import confusion_matrix, precision_score, recall_score"
      ],
      "metadata": {
        "id": "4Npa7QKJTm7r"
      },
      "execution_count": 74,
      "outputs": []
    },
    {
      "cell_type": "code",
      "source": [
        "confusion_matrix(y_test, y_pred_dummy)"
      ],
      "metadata": {
        "colab": {
          "base_uri": "https://localhost:8080/"
        },
        "id": "e7X8gPhrTskX",
        "outputId": "21c89152-cdba-4ca9-a160-e6dc3d0577a6"
      },
      "execution_count": 75,
      "outputs": [
        {
          "output_type": "execute_result",
          "data": {
            "text/plain": [
              "array([[  0,   0,   0,   6],\n",
              "       [  0,   0,   0,   3],\n",
              "       [  0,   0,   0,   2],\n",
              "       [  0,   0,   0, 126]])"
            ]
          },
          "metadata": {},
          "execution_count": 75
        }
      ]
    },
    {
      "cell_type": "code",
      "source": [
        "confusion_matrix(y_test, y_pred_log_reg)"
      ],
      "metadata": {
        "colab": {
          "base_uri": "https://localhost:8080/"
        },
        "id": "lfo_vZRmT1_N",
        "outputId": "5cacde48-70a8-422a-ab39-de21ee5e3c40"
      },
      "execution_count": 76,
      "outputs": [
        {
          "output_type": "execute_result",
          "data": {
            "text/plain": [
              "array([[  0,   0,   0,   6],\n",
              "       [  0,   0,   0,   3],\n",
              "       [  0,   0,   0,   2],\n",
              "       [  0,   0,   0, 126]])"
            ]
          },
          "metadata": {},
          "execution_count": 76
        }
      ]
    },
    {
      "cell_type": "code",
      "source": [
        "print(f'Precision for Dummy Classificator: {precision_score(y_test, y_pred_dummy, zero_division=0)}')\n",
        "print(f'Precision for Logistic regression: {precision_score(y_test, y_pred_log_reg, zero_division=0)}')"
      ],
      "metadata": {
        "colab": {
          "base_uri": "https://localhost:8080/",
          "height": 324
        },
        "id": "9F4H6RrBT2Bz",
        "outputId": "701190e9-7633-4f2c-c95d-f768beeb3a28"
      },
      "execution_count": 77,
      "outputs": [
        {
          "output_type": "error",
          "ename": "ValueError",
          "evalue": "ignored",
          "traceback": [
            "\u001b[0;31m---------------------------------------------------------------------------\u001b[0m",
            "\u001b[0;31mValueError\u001b[0m                                Traceback (most recent call last)",
            "\u001b[0;32m<ipython-input-77-8d3a504431f9>\u001b[0m in \u001b[0;36m<module>\u001b[0;34m\u001b[0m\n\u001b[0;32m----> 1\u001b[0;31m \u001b[0mprint\u001b[0m\u001b[0;34m(\u001b[0m\u001b[0;34mf'Precision for Dummy Classificator: {precision_score(y_test, y_pred_dummy, zero_division=0)}'\u001b[0m\u001b[0;34m)\u001b[0m\u001b[0;34m\u001b[0m\u001b[0;34m\u001b[0m\u001b[0m\n\u001b[0m\u001b[1;32m      2\u001b[0m \u001b[0mprint\u001b[0m\u001b[0;34m(\u001b[0m\u001b[0;34mf'Precision for Logistic regression: {precision_score(y_test, y_pred_log_reg, zero_division=0)}'\u001b[0m\u001b[0;34m)\u001b[0m\u001b[0;34m\u001b[0m\u001b[0;34m\u001b[0m\u001b[0m\n",
            "\u001b[0;32m/usr/local/lib/python3.8/dist-packages/sklearn/metrics/_classification.py\u001b[0m in \u001b[0;36mprecision_score\u001b[0;34m(y_true, y_pred, labels, pos_label, average, sample_weight, zero_division)\u001b[0m\n\u001b[1;32m   1755\u001b[0m     \u001b[0marray\u001b[0m\u001b[0;34m(\u001b[0m\u001b[0;34m[\u001b[0m\u001b[0;36m0.5\u001b[0m\u001b[0;34m,\u001b[0m \u001b[0;36m1.\u001b[0m \u001b[0;34m,\u001b[0m \u001b[0;36m1.\u001b[0m \u001b[0;34m]\u001b[0m\u001b[0;34m)\u001b[0m\u001b[0;34m\u001b[0m\u001b[0;34m\u001b[0m\u001b[0m\n\u001b[1;32m   1756\u001b[0m     \"\"\"\n\u001b[0;32m-> 1757\u001b[0;31m     p, _, _, _ = precision_recall_fscore_support(\n\u001b[0m\u001b[1;32m   1758\u001b[0m         \u001b[0my_true\u001b[0m\u001b[0;34m,\u001b[0m\u001b[0;34m\u001b[0m\u001b[0;34m\u001b[0m\u001b[0m\n\u001b[1;32m   1759\u001b[0m         \u001b[0my_pred\u001b[0m\u001b[0;34m,\u001b[0m\u001b[0;34m\u001b[0m\u001b[0;34m\u001b[0m\u001b[0m\n",
            "\u001b[0;32m/usr/local/lib/python3.8/dist-packages/sklearn/metrics/_classification.py\u001b[0m in \u001b[0;36mprecision_recall_fscore_support\u001b[0;34m(y_true, y_pred, beta, labels, pos_label, average, warn_for, sample_weight, zero_division)\u001b[0m\n\u001b[1;32m   1542\u001b[0m     \u001b[0;32mif\u001b[0m \u001b[0mbeta\u001b[0m \u001b[0;34m<\u001b[0m \u001b[0;36m0\u001b[0m\u001b[0;34m:\u001b[0m\u001b[0;34m\u001b[0m\u001b[0;34m\u001b[0m\u001b[0m\n\u001b[1;32m   1543\u001b[0m         \u001b[0;32mraise\u001b[0m \u001b[0mValueError\u001b[0m\u001b[0;34m(\u001b[0m\u001b[0;34m\"beta should be >=0 in the F-beta score\"\u001b[0m\u001b[0;34m)\u001b[0m\u001b[0;34m\u001b[0m\u001b[0;34m\u001b[0m\u001b[0m\n\u001b[0;32m-> 1544\u001b[0;31m     \u001b[0mlabels\u001b[0m \u001b[0;34m=\u001b[0m \u001b[0m_check_set_wise_labels\u001b[0m\u001b[0;34m(\u001b[0m\u001b[0my_true\u001b[0m\u001b[0;34m,\u001b[0m \u001b[0my_pred\u001b[0m\u001b[0;34m,\u001b[0m \u001b[0maverage\u001b[0m\u001b[0;34m,\u001b[0m \u001b[0mlabels\u001b[0m\u001b[0;34m,\u001b[0m \u001b[0mpos_label\u001b[0m\u001b[0;34m)\u001b[0m\u001b[0;34m\u001b[0m\u001b[0;34m\u001b[0m\u001b[0m\n\u001b[0m\u001b[1;32m   1545\u001b[0m \u001b[0;34m\u001b[0m\u001b[0m\n\u001b[1;32m   1546\u001b[0m     \u001b[0;31m# Calculate tp_sum, pred_sum, true_sum ###\u001b[0m\u001b[0;34m\u001b[0m\u001b[0;34m\u001b[0m\u001b[0;34m\u001b[0m\u001b[0m\n",
            "\u001b[0;32m/usr/local/lib/python3.8/dist-packages/sklearn/metrics/_classification.py\u001b[0m in \u001b[0;36m_check_set_wise_labels\u001b[0;34m(y_true, y_pred, average, labels, pos_label)\u001b[0m\n\u001b[1;32m   1363\u001b[0m             \u001b[0;32mif\u001b[0m \u001b[0my_type\u001b[0m \u001b[0;34m==\u001b[0m \u001b[0;34m\"multiclass\"\u001b[0m\u001b[0;34m:\u001b[0m\u001b[0;34m\u001b[0m\u001b[0;34m\u001b[0m\u001b[0m\n\u001b[1;32m   1364\u001b[0m                 \u001b[0maverage_options\u001b[0m\u001b[0;34m.\u001b[0m\u001b[0mremove\u001b[0m\u001b[0;34m(\u001b[0m\u001b[0;34m\"samples\"\u001b[0m\u001b[0;34m)\u001b[0m\u001b[0;34m\u001b[0m\u001b[0;34m\u001b[0m\u001b[0m\n\u001b[0;32m-> 1365\u001b[0;31m             raise ValueError(\n\u001b[0m\u001b[1;32m   1366\u001b[0m                 \u001b[0;34m\"Target is %s but average='binary'. Please \"\u001b[0m\u001b[0;34m\u001b[0m\u001b[0;34m\u001b[0m\u001b[0m\n\u001b[1;32m   1367\u001b[0m                 \u001b[0;34m\"choose another average setting, one of %r.\"\u001b[0m \u001b[0;34m%\u001b[0m \u001b[0;34m(\u001b[0m\u001b[0my_type\u001b[0m\u001b[0;34m,\u001b[0m \u001b[0maverage_options\u001b[0m\u001b[0;34m)\u001b[0m\u001b[0;34m\u001b[0m\u001b[0;34m\u001b[0m\u001b[0m\n",
            "\u001b[0;31mValueError\u001b[0m: Target is multiclass but average='binary'. Please choose another average setting, one of [None, 'micro', 'macro', 'weighted']."
          ]
        }
      ]
    },
    {
      "cell_type": "code",
      "source": [
        "print(f'Recall for Dummy Classificator: {recall_score(y_test, y_pred_dummy)}')\n",
        "print(f'Recall for Logistic regression: {recall_score(y_test, y_pred_log_reg)}')"
      ],
      "metadata": {
        "id": "sbLByrblT2Er"
      },
      "execution_count": null,
      "outputs": []
    },
    {
      "cell_type": "markdown",
      "source": [
        "F-мера"
      ],
      "metadata": {
        "id": "jw5e3LEXUYH7"
      }
    },
    {
      "cell_type": "code",
      "source": [
        "from sklearn.metrics import f1_score, fbeta_score\n",
        "from sklearn.metrics import precision_recall_curve"
      ],
      "metadata": {
        "id": "u4ALHxKmT2HA"
      },
      "execution_count": null,
      "outputs": []
    },
    {
      "cell_type": "code",
      "source": [
        "print(f'F1-score for Dummy Classificator: {f1_score(y_test, y_pred_dummy)}')\n",
        "print(f'F1-score for Logistic regression: {f1_score(y_test, y_pred_log_reg)}')"
      ],
      "metadata": {
        "id": "e70_HaP6UayK"
      },
      "execution_count": null,
      "outputs": []
    },
    {
      "cell_type": "code",
      "source": [
        "print(f'F1-score for Dummy Classificator (recall bias): {fbeta_score(y_test, y_pred_dummy, beta=2)}')\n",
        "print(f'F1-score for Logistic regression (recall bias): {fbeta_score(y_test, y_pred_log_reg, beta=2)}')"
      ],
      "metadata": {
        "id": "F3mRFdwPUa0s"
      },
      "execution_count": null,
      "outputs": []
    },
    {
      "cell_type": "code",
      "source": [
        "print(f'Fbeta-score for Dummy Classificator (precision bias): {fbeta_score(y_test, y_pred_dummy, beta=0.5)}')\n",
        "print(f'Fbeta-score for Logistic regression (precision bias): {fbeta_score(y_test, y_pred_log_reg, beta=0.5)}')"
      ],
      "metadata": {
        "id": "FW1pqopNUe0A"
      },
      "execution_count": null,
      "outputs": []
    },
    {
      "cell_type": "code",
      "source": [
        "y_pred = log_reg.predict_proba(X_test)[:, 1]"
      ],
      "metadata": {
        "id": "UOawyRmWUe2D"
      },
      "execution_count": null,
      "outputs": []
    },
    {
      "cell_type": "code",
      "source": [
        "precision, recall, thresholds = precision_recall_curve(y_test, y_pred)\n",
        "\n",
        "no_skill = len(y_test[y_test == 1]) / len(y_test)\n",
        "\n",
        "plt.plot([0,1], [no_skill, no_skill], linestyle='--', label='No Skill')\n",
        "plt.plot(recall, precision, marker='.', label='Logistic')\n",
        "plt.xlabel('Recall')\n",
        "plt.ylabel('Precision')\n",
        "plt.legend()\n",
        "plt.grid()\n",
        "plt.show()"
      ],
      "metadata": {
        "id": "n2Do4d9UUs3d"
      },
      "execution_count": null,
      "outputs": []
    },
    {
      "cell_type": "markdown",
      "source": [
        "AUC ROC – площадь под ROC-кривой"
      ],
      "metadata": {
        "id": "057FlDSRVEEK"
      }
    },
    {
      "cell_type": "code",
      "source": [
        "from sklearn.metrics import roc_curve, roc_auc_score"
      ],
      "metadata": {
        "id": "xbe_x9I6VEcL"
      },
      "execution_count": null,
      "outputs": []
    },
    {
      "cell_type": "code",
      "source": [
        "def plot_roc_auc(fpr, tpr, thresholds, title):\n",
        "  plt.plot([0,1], [0,1], linestyle='--', label='No Skill')\n",
        "  plt.plot(fpr, tpr, marker='.', label='Logistic')\n",
        "  plt.xlabel('False Positive Rate')\n",
        "  plt.ylabel('True Positive Rate')\n",
        "  plt.legend()\n",
        "  plt.grid()\n",
        "  plt.show()"
      ],
      "metadata": {
        "id": "ZPAzW0rGVEfK"
      },
      "execution_count": null,
      "outputs": []
    },
    {
      "cell_type": "code",
      "source": [
        "y_pred = log_reg.predict_proba(X_test)[:, 1]\n",
        "fpr, tpr, thresholds = roc_curve(y_test, y_pred)\n",
        "plot_roc_auc(fpr, tpr, thresholds, title='Logistic regression')"
      ],
      "metadata": {
        "id": "66bv3Mi3VEhy"
      },
      "execution_count": null,
      "outputs": []
    },
    {
      "cell_type": "code",
      "source": [
        "y_pred = dummy_clf.predict_proba(X_test)[:, 1]\n",
        "fpr, tpr, thresholds = roc_curve(y_test, y_pred)\n",
        "plot_roc_auc(fpr, tpr, thresholds, title='Dummy')"
      ],
      "metadata": {
        "id": "ZcFldkqmVEkX"
      },
      "execution_count": null,
      "outputs": []
    },
    {
      "cell_type": "code",
      "source": [],
      "metadata": {
        "id": "sCp4gsIwVEnQ"
      },
      "execution_count": null,
      "outputs": []
    }
  ]
}